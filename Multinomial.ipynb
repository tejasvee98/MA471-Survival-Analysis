{
  "nbformat": 4,
  "nbformat_minor": 0,
  "metadata": {
    "colab": {
      "name": "Multinomial.ipynb",
      "provenance": [],
      "collapsed_sections": [],
      "include_colab_link": true
    },
    "kernelspec": {
      "name": "python3",
      "display_name": "Python 3"
    }
  },
  "cells": [
    {
      "cell_type": "markdown",
      "metadata": {
        "id": "view-in-github",
        "colab_type": "text"
      },
      "source": [
        "<a href=\"https://colab.research.google.com/github/tejasvee98/MA471-Survival-Analysis/blob/main/Multinomial.ipynb\" target=\"_parent\"><img src=\"https://colab.research.google.com/assets/colab-badge.svg\" alt=\"Open In Colab\"/></a>"
      ]
    },
    {
      "cell_type": "markdown",
      "metadata": {
        "id": "FKtzlGHMQ1e7"
      },
      "source": [
        "# **Multinomial Distribution based Approach**"
      ]
    },
    {
      "cell_type": "markdown",
      "metadata": {
        "id": "9Ahme28lG_DA"
      },
      "source": [
        "### **Likelihood Function**\n",
        "\n",
        "Let $X_1, X_2, ..., X_n$ have a joint density function $f(X_1, X_2, ..., X_n | {\\theta})$. \n",
        "\n",
        "Given $X_1 = x_1, X_2 = x_2, ..., X_n = x_n$ is observed, the function of $\\theta$ defined by:\n",
        "\n",
        "$L({\\theta}) = L({\\theta}|x_1, x_2, ..., x_n) = f(x_1, x_2, ..., x_n | {\\theta})$\n",
        "is the likelihood function."
      ]
    },
    {
      "cell_type": "markdown",
      "metadata": {
        "id": "oi_UBGpgITVQ"
      },
      "source": [
        "\n",
        "### **Maximum Likelihood Estimator**\n",
        "\n",
        "Let $x_1, x_2,..., x_n$ be observations from n independent and identically distributed random variables drawn from a probability distribution $f_0$, where $f_0$ is known to be from a family of distributions f that depend on some parameters $\\theta$.\n",
        "\n",
        "For example, $f_0$ could be known to be from the family of normal distributions f, which depend on parameters $\\sigma$ (standard deviation) and $\\mu$ (mean), and $x_1, x_2,..., x_n$ would be observations from $f_0$.\n",
        "\n",
        "The goal of MLE is to maximize the likelihood function:\n",
        "\n",
        "$L = f(x_1, x_2, \\ldots, x_n | \\theta)=f(x_1 | \\theta) \\times f(x_2 | \\theta) \\times \\ldots \\times f(x_n | \\theta)$"
      ]
    },
    {
      "cell_type": "markdown",
      "metadata": {
        "id": "cE_G0oqgIlhy"
      },
      "source": [
        "### **Multinomial Distribution**\n",
        "\n",
        "The multinomial distribution is a generalization of the binomial distribution. In the binomial distribution, there are only possible outcomes on any individual trial, called success and failure. In the multinomial distribution, the number of possible outcomes on any one given trial is allowed to be greater than 2.\n",
        "\n",
        "Suppose\n",
        "\n",
        "1. There n independent trials.\n",
        "\n",
        "2. Each trial results in one of k mutually exclusive outcomes.\n",
        "\n",
        "3. On any single trial, these k outcomes occur with probabilities {$p_1$},...., {$p_k$}. These outcomes are exhaustive too.\n",
        "\n",
        "   ($\\sum_{i=1}^{k} p_i = 1$)\n",
        "\n",
        "We also need these probabilities to stay constant from trial to trial.\n",
        "\n",
        "So we're going to have k random variables, representing a count for each of those possible outcomes. Let random variable {$X_i$} represent the number of occurences of outcome i = 1,...,k. Then:\n",
        "\n",
        "$P[X_1 = x_1,...,X_k = x_k] = {\\frac{n!}{x_1!...x_k!}}   {{p_1}^{x_1}...{p_k}^{x_k}}$\n",
        "\n",
        "On RHS, the first term is the number of possible orderings that give $x_1$ occurrences of outcome 1, $x_2$ occurrences of outcome 2 and so on. The second term is the probability of any one specific ordering of $x_1$ occurrences of outcome 1, $x_2$ occurrences of outcome 2 and so on."
      ]
    },
    {
      "cell_type": "markdown",
      "metadata": {
        "id": "2xxeatSPIfMR"
      },
      "source": [
        "### **MLE for Multinomial Distribution**\n",
        "\n",
        "$ \\textbf{p} = (p_1,...., p_k) $\n",
        "\n",
        "From above, the likelihood is given by:\n",
        "\n",
        "$L(\\textbf{p}) = {n!}{\\prod_{i=1}^{k} \\frac{{p_i}^{x_i}}{x_i!}}$\n",
        "\n",
        "and the log likelihood is:\n",
        "\n",
        "\\begin{align*} \n",
        "l(\\textbf{p}) = log L(\\textbf{p}) & = log( {n!}{\\prod_{i=1}^{k} \\frac{{p_i}^{x_i}}{x_i!}})\n",
        "\\\\\n",
        "& = log({n!}) + log({\\prod_{i=1}^{k} \\frac{{p_i}^{x_i}}{x_i!}})\n",
        "\\\\\n",
        "& = log({n!}) + {\\sum_{i=1}^{k} log \\frac{{p_i}^{x_i}}{x_i!}}\n",
        "\\\\\n",
        "& = log({n!}) + {\\sum_{i=1}^{k} {x_i} log({p_i})} - {\\sum_{i=1}^{k} {x_i} log({x_i!})}\n",
        "\\end{align*}\n",
        " \n",
        "Posing a constraint $\\sum_{i=1}^{k} {p_i} = 1$ with Lagrange multiplier,\n",
        "${l^{'}}(\\textbf{p}, \\lambda) = l(\\textbf{p}) + {\\lambda}({1 - \\sum_{i=1}^{k} {p_i}})$\n",
        "\n",
        "To find ${argmax}_{p}L($p$, \\lambda)$\n",
        "\n",
        "\\begin{align*} \n",
        "\\frac{\\partial {}}{\\partial p_i} {l^{'}}(\\textbf{p}, \\lambda) = \\frac{\\partial {}}{\\partial p_i} l(\\textbf{p}) + \\frac{\\partial {}}{\\partial p_i} {\\lambda}({1 - \\sum_{i=1}^{k} {p_i}}) & = 0\n",
        "\\\\\n",
        "\\frac{\\partial {}}{\\partial p_i} {\\sum_{i=1}^{k} {x_i} log({p_i})} - {\\lambda}{\\frac{\\partial {}}{\\partial p_i} {\\sum_{i=1}^{k} {p_i}}} & = 0 \\\\\n",
        "\\frac{x_i}{p_i} - \\lambda & = 0\n",
        "\\\\\n",
        "p_i & = \\frac{x_i}{\\lambda}\n",
        "\\\\\n",
        "\\sum_{i=1}^{k} p_i & = \\sum_{i=1}^{k} \\frac{x_i}{\\lambda}\n",
        "\\\\\n",
        "1 & = \\frac{1}{\\lambda} \\sum_{i=1}^{k} {x_i}\n",
        "\\\\\n",
        "\\lambda & = n\n",
        "\\end{align*}\n",
        "\n",
        "Therefore,\n",
        "\n",
        "$p_i = \\frac{x_i}{n}$\n",
        "\n",
        "Hence, the most likely probability distribution is\n",
        "\n",
        "$ \\textbf{p} = ({{\\frac{x_1}{n}}, {\\frac{x_2}{n}},..., {\\frac{x_k}{n}}})$"
      ]
    },
    {
      "cell_type": "markdown",
      "metadata": {
        "id": "_jAUhRRdtTfn"
      },
      "source": [
        "For our case, we can model our problem with k=3 such that  \n",
        "Event 1: $ p_1 $ = no of times X dies before 60         \n",
        "Event 2: $p_2 $ = no of times X dies between 60 and 60.25  \n",
        "Event 3: $p_3$ = no of times X dies after 60.25  \n",
        "Since we are going to take 10000 samples here, $n$=10000"
      ]
    },
    {
      "cell_type": "code",
      "metadata": {
        "id": "pTeSqLJ57s5J"
      },
      "source": [
        "def max_likelihood_prob_values(A):\n",
        "    #given dataset A is in ascending order\n",
        "    n = len(A)\n",
        "\n",
        "    # Event1: p1 = no of times X dies before 60\n",
        "    # Event2: p2 = no of times X dies between 60 and 60.25\n",
        "    # Event3: p3 = no of times X dies after 60.25\n",
        "\n",
        "    #for maximum likelihood (the derivation is above) we have (p1,p2,p3) = (x1,x2,xn) where x1, x2, x3 are the no of times event 1,2,3 happens\n",
        "  \n",
        "    p1=0\n",
        "    p2=0\n",
        "    p3=0\n",
        "    for i in range(len(A)):\n",
        "      #p1 will be the ith index when age exceeds 60 from the dataset\n",
        "        if(A[i]>60):\n",
        "            if(p1==0):\n",
        "                p1 =i\n",
        "\n",
        "       #p2 will be the ith index when age exceeds 60.25 from the dataset\n",
        "        if(A[i]>60.25):\n",
        "            if(p2==0):\n",
        "                p2 = i\n",
        "    #we want p2 to be between 60 and 60.25, that's why subtracting p1       \n",
        "    p2 = p2-p1 \n",
        "    #p3 will be the rest of the entries\n",
        "    p3 = len(A)-(p2+p1)\n",
        "    return [p1,p2,p3]"
      ],
      "execution_count": null,
      "outputs": []
    },
    {
      "cell_type": "code",
      "metadata": {
        "id": "QZXYVP9m7i4m",
        "outputId": "101510b3-bac5-40c8-a91d-77c82b46a58b",
        "colab": {
          "base_uri": "https://localhost:8080/",
          "height": 343
        }
      },
      "source": [
        "import pandas as pd\n",
        "import numpy as np\n",
        "#we have the data of 10000 people at the age which they died\n",
        "url='https://raw.githubusercontent.com/tejasvee98/MA471-Survival-Analysis/main/age_at_death.csv'\n",
        "df = pd.read_csv(url)\n",
        "df.head(10)"
      ],
      "execution_count": null,
      "outputs": [
        {
          "output_type": "execute_result",
          "data": {
            "text/html": [
              "<div>\n",
              "<style scoped>\n",
              "    .dataframe tbody tr th:only-of-type {\n",
              "        vertical-align: middle;\n",
              "    }\n",
              "\n",
              "    .dataframe tbody tr th {\n",
              "        vertical-align: top;\n",
              "    }\n",
              "\n",
              "    .dataframe thead th {\n",
              "        text-align: right;\n",
              "    }\n",
              "</style>\n",
              "<table border=\"1\" class=\"dataframe\">\n",
              "  <thead>\n",
              "    <tr style=\"text-align: right;\">\n",
              "      <th></th>\n",
              "      <th>Index</th>\n",
              "      <th>Age at death</th>\n",
              "    </tr>\n",
              "  </thead>\n",
              "  <tbody>\n",
              "    <tr>\n",
              "      <th>0</th>\n",
              "      <td>0</td>\n",
              "      <td>87.545788</td>\n",
              "    </tr>\n",
              "    <tr>\n",
              "      <th>1</th>\n",
              "      <td>1</td>\n",
              "      <td>81.617684</td>\n",
              "    </tr>\n",
              "    <tr>\n",
              "      <th>2</th>\n",
              "      <td>2</td>\n",
              "      <td>104.169335</td>\n",
              "    </tr>\n",
              "    <tr>\n",
              "      <th>3</th>\n",
              "      <td>3</td>\n",
              "      <td>86.762748</td>\n",
              "    </tr>\n",
              "    <tr>\n",
              "      <th>4</th>\n",
              "      <td>4</td>\n",
              "      <td>72.389863</td>\n",
              "    </tr>\n",
              "    <tr>\n",
              "      <th>5</th>\n",
              "      <td>5</td>\n",
              "      <td>99.876761</td>\n",
              "    </tr>\n",
              "    <tr>\n",
              "      <th>6</th>\n",
              "      <td>6</td>\n",
              "      <td>89.454909</td>\n",
              "    </tr>\n",
              "    <tr>\n",
              "      <th>7</th>\n",
              "      <td>7</td>\n",
              "      <td>92.353079</td>\n",
              "    </tr>\n",
              "    <tr>\n",
              "      <th>8</th>\n",
              "      <td>8</td>\n",
              "      <td>88.983558</td>\n",
              "    </tr>\n",
              "    <tr>\n",
              "      <th>9</th>\n",
              "      <td>9</td>\n",
              "      <td>116.845605</td>\n",
              "    </tr>\n",
              "  </tbody>\n",
              "</table>\n",
              "</div>"
            ],
            "text/plain": [
              "   Index  Age at death\n",
              "0      0     87.545788\n",
              "1      1     81.617684\n",
              "2      2    104.169335\n",
              "3      3     86.762748\n",
              "4      4     72.389863\n",
              "5      5     99.876761\n",
              "6      6     89.454909\n",
              "7      7     92.353079\n",
              "8      8     88.983558\n",
              "9      9    116.845605"
            ]
          },
          "metadata": {
            "tags": []
          },
          "execution_count": 17
        }
      ]
    },
    {
      "cell_type": "markdown",
      "metadata": {
        "id": "mM6nLE34t_pq"
      },
      "source": [
        "We have generated these age at death samples using the parametric Weibull distribution. We had assumed the age of death X to be distributed according to a parametric probability distribution. We had the data for $S_x(t)$ ( probability of Surviving till $x+t$ given survival till $x$). By fitting these data points on the function derived from our probabilty distribution, we were able to estimate the value of parameters for the weibull distribution and generate random variables from the resulting distribution."
      ]
    },
    {
      "cell_type": "code",
      "metadata": {
        "id": "nmmAcFj27wrq"
      },
      "source": [
        "A = df['Age at death'].sort_values()\n",
        "[p1,p2,p3] = max_likelihood_prob_values(list(A))"
      ],
      "execution_count": null,
      "outputs": []
    },
    {
      "cell_type": "code",
      "metadata": {
        "id": "4rJA9lcdBgtY"
      },
      "source": [
        "#as n is 10000, (p1/1000,p2/1000,p3/1000) represents the prob of event 1,2,3\n",
        "p1_prob = p1/10000\n",
        "p2_prob = p2/10000\n",
        "p3_prob = p3/10000"
      ],
      "execution_count": null,
      "outputs": []
    },
    {
      "cell_type": "markdown",
      "metadata": {
        "id": "BJYY9XjKrniI"
      },
      "source": [
        "Now, the probability of Survival till Age 60.25 given that the person has survived till 60 is $ \\frac{Pr(Person \\ has \\ survived \\ till \\ age \\ 60.25)}{Pr(Person \\ has \\ survived \\ till \\ age \\ 60)}=\\frac{p_3}{1-p_1} $"
      ]
    },
    {
      "cell_type": "code",
      "metadata": {
        "id": "-SAyBkNYwXbg",
        "outputId": "ccd8b119-6cb6-4031-c328-6645252a9820",
        "colab": {
          "base_uri": "https://localhost:8080/",
          "height": 34
        }
      },
      "source": [
        "print(\"Probability of Survival till 60.25, given survival till 60 = \",p3_prob/(1-p1_prob))"
      ],
      "execution_count": null,
      "outputs": [
        {
          "output_type": "stream",
          "text": [
            "Probability of Survival till 60.25, given survival till 60 =  0.9992758121249741\n"
          ],
          "name": "stdout"
        }
      ]
    },
    {
      "cell_type": "markdown",
      "metadata": {
        "id": "nBTqgIAowqlD"
      },
      "source": [
        "Now let's try and generate a confidence interval for our result using empircal bootstrapping."
      ]
    },
    {
      "cell_type": "markdown",
      "metadata": {
        "id": "gsgBkFmdFpQi"
      },
      "source": [
        "### **Confidence Intervals**\n",
        "\n",
        "A confidence interval is a type of estimate computed from the statistics of the observed data. This proposes a range of plausible values for an unknown parameter. The interval has an associated confidence level that the true parameter is in the proposed range. The confidence level represents the frequency  of possible confidence intervals that contain the true value of the unknown  parameter. In other words, if confidence intervals are constructed using a given confidence level from an infinite number of independent sample statistics, the proportion of those intervals that contain the true value of the parameter will be equal to the confidence level."
      ]
    },
    {
      "cell_type": "markdown",
      "metadata": {
        "id": "vZ6zFvOb6kuL"
      },
      "source": [
        "**Emperical Bootstrapping to find Confidence Intervals**\n",
        "\n",
        "Steps Involved:\n",
        "1. A data sample $x_{1}, x_{2}$ . . . , $x_{n}$ is drawn from the Weibull distribution as explained earlier. The statistic thetaHat is computed from the sample.\n",
        "2. A random resample of the data is generated. We call this the bootstrap sample. \n",
        "3. For each bootstrap sample $x_{1}^{*}$, . . . , $x_{m}^{*}$\n",
        "we compute $θ_{temp}$.\n",
        "4. $θ_{temp}$ is appended to the matrix $\\widehat{θ}^{*}$ whose rows store values of parameters derived from each sample.\n",
        "5. After calculation of $\\widehat{θ}^{*}$ is complete, the bootstrap difference $δ^{*}$ = $\\widehat{θ}^{*}$ − $\\widehat{θ}$ is calculated.\n",
        "6. The bootstrap principle says that the distribution of $δ^{*}$ approximates the distribution of $δ$ = $\\widehat{θ}$ − $θ$. We use the bootstrap differences to make a bootstrap confidence interval for $θ$."
      ]
    },
    {
      "cell_type": "code",
      "metadata": {
        "id": "7XpqMyJPX07k",
        "outputId": "9f5818cd-6747-4321-8d19-fbc2389d8be7",
        "colab": {
          "base_uri": "https://localhost:8080/",
          "height": 67
        }
      },
      "source": [
        "n = len(A)\n",
        "#Step 1 is already done, counts holds the value of thetaHat \n",
        "thetaHat= counts\n",
        "numOfSamples=n\n",
        "thetaStar = np.zeros(shape=(numOfSamples,3))\n",
        "for i in range(numOfSamples):\n",
        "    #Step 2 \n",
        "    sample=A.sample(n-100)\n",
        "    #Step 3\n",
        "    thetaTemp=max_likelihood_prob_values(list(sample.sort_values()))\n",
        "    #Step 4\n",
        "    thetaStar[ i, :] = thetaTemp\n",
        "#Step 5\n",
        "deltaStar = thetaStar - thetaHat\n",
        "#Step 6, Finding 90% confidence intervals for parameters\n",
        "q1=np.quantile(deltaStar,0.05,0)\n",
        "q2=np.quantile(deltaStar,0.95,0)\n",
        "print(\"Confidence Interval for p1: [\", thetaHat[0]-q2[0], \",\", thetaHat[0]-q1[0], \"]\")\n",
        "print(\"Confidence Interval for p2: [\", thetaHat[1]-q2[1], \",\", thetaHat[1]-q1[1], \"]\")\n",
        "print(\"Confidence Interval for p3: [\", thetaHat[2]-q2[2], \",\", thetaHat[2]-q1[2], \"]\")"
      ],
      "execution_count": null,
      "outputs": [
        {
          "output_type": "stream",
          "text": [
            "Confidence Interval for p1: [ 335.0 , 340.04999999999995 ]\n",
            "Confidence Interval for p2: [ 7.0 , 8.0 ]\n",
            "Confidence Interval for p3: [ 9752.0 , 9758.0 ]\n"
          ],
          "name": "stdout"
        }
      ]
    },
    {
      "cell_type": "code",
      "metadata": {
        "id": "iv98DDJNZYTy"
      },
      "source": [
        ""
      ],
      "execution_count": null,
      "outputs": []
    }
  ]
}