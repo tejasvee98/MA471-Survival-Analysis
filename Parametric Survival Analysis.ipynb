{
  "nbformat": 4,
  "nbformat_minor": 0,
  "metadata": {
    "kernelspec": {
      "name": "Python 3.8.5 32-bit",
      "display_name": "Python 3.8.5 32-bit",
      "metadata": {
        "interpreter": {
          "hash": "e3b4fb4671bf1b746205191bba2d4597e78dd9338b359fd1ad0151f7cf0a9919"
        }
      }
    },
    "language_info": {
      "codemirror_mode": {
        "name": "ipython",
        "version": 3
      },
      "file_extension": ".py",
      "mimetype": "text/x-python",
      "name": "python",
      "nbconvert_exporter": "python",
      "pygments_lexer": "ipython3",
      "version": "3.8.5-final"
    },
    "colab": {
      "name": "Notebook1.ipynb",
      "provenance": [],
      "collapsed_sections": [],
      "include_colab_link": true
    }
  },
  "cells": [
    {
      "cell_type": "markdown",
      "metadata": {
        "id": "view-in-github",
        "colab_type": "text"
      },
      "source": [
        "<a href=\"https://colab.research.google.com/github/tejasvee98/MA471-Survival-Analysis/blob/main/Parametric%20Survival%20Analysis.ipynb\" target=\"_parent\"><img src=\"https://colab.research.google.com/assets/colab-badge.svg\" alt=\"Open In Colab\"/></a>"
      ]
    },
    {
      "cell_type": "markdown",
      "metadata": {
        "id": "qYoxKkJpDiQ-"
      },
      "source": [
        "# **Properties of a Survival Function $S_{x}(t)$**\n",
        "\n",
        "*$S_x$(t): The probability that someone at age x does survive t additional years.* ​\n",
        "\n",
        "**Property 1:** $S_x$(0) = 1. Everyone who survived to age x is alive at the beginning of the time period beyond x.​\n",
        "\n",
        "**Property 2:**  $S_x(\\infty) = 0$. No one lives infinitely long beyond x.  ​\n",
        "\n",
        "**Property 3:** If $t_1 < t_2$ then $S_x (t_1) \\geq S_x (t_2)$. The function $S_x$ (t) is non-increasing.​"
      ]
    },
    {
      "cell_type": "markdown",
      "metadata": {
        "id": "sPIzWkj-DnBG"
      },
      "source": [
        "**Survival Models​**\n",
        "\n",
        "Let  $ {T_x} $ = (Future lifelength beyond age x of an individual who\n",
        "has survived till age x. The total lifelength of an individual will be\n",
        "x +  $ {T_x}$\n",
        "\n",
        "**Distribution Function​**\n",
        "\n",
        "$ {F_x(t) =  \\int_{0}^{t} f_x(s) \\,ds } $\n",
        "\n",
        "Either of the functions ${f_x(t)}$ or ${F_x(t)}$ are used to describe the future lifetime distribution beyond age x. Clearly, ${F_x(t)}$ is the probability that someone who has survived till age x will not survive beyond age x+t."
      ]
    },
    {
      "cell_type": "markdown",
      "metadata": {
        "id": "IzgFUq0zDvrj"
      },
      "source": [
        "Let ${T_0}$ denote the total lifelenght of an individual.Then \n",
        "\n",
        "$ \\Large {F_x(t)} = P[ T_x \\leq t] = P[x < T_0 \\leq x+t | T_0 > x] $ \\\\\n",
        "\n",
        "$\\hspace{1cm}$ \n",
        "= $\\Large \\frac{P[x < T_0 \\leq x+t] }{P[T_0 >x]}$ \\\\\n",
        "\n",
        "$\\Large { F_x(t) = \\frac{S_0(x) - S_0(x+t)}{S_0(x)} = 1 - \\frac{S_0(x+t)}{S_0(x)} }$\n",
        "\n",
        "$\\Large { F_0(t) = 1 - \\frac{S_0(t)}{S_0(0)} = 1 - S_0(t) }$"
      ]
    },
    {
      "cell_type": "markdown",
      "metadata": {
        "id": "z2shN2BqD0dq"
      },
      "source": [
        "**Mortality Function or Hazard Function​\n",
        "(as described in class)​**\n",
        "\n",
        "It is the rate of death among persons who have survived to an age​\n",
        "\n",
        "Define Force of Mortality at age x to be\n",
        "\n",
        "$ \\Large \\mu_x  =  \\lim_{dx\\to0} \\frac{P[x < T_0 \\leq x+t | T_0 > x]}{dx} $\n",
        "\n",
        "So, Force of Mortality becomes​\n",
        "\n",
        "$ \\Large \\mu_x  =  \\lim_{dx\\to0} \\frac{\\frac{F_0(x+dx) - F_0(x)}{dx}}{S_0(x)} $\n",
        "\n"
      ]
    },
    {
      "cell_type": "markdown",
      "metadata": {
        "id": "7oS_8cevD6_D"
      },
      "source": [
        "We have this equation from above\n",
        "\n",
        "$\\Large { F_0(x) = 1 - \\frac{S_0(x)}{S_0(0)} = 1 - S_0(x) }$\n",
        "\n",
        "$ \\Large \\mu_x = \\frac{F_0'(x)}{S_0(x)} \\Big|t=x $\n",
        "\n",
        "$ \\Large = -\\frac{S_0(x)'}{S_0(x)} $\n",
        "\n",
        "\n",
        "\n",
        "\n",
        "\n",
        "$\\Large \\mu_x = \\frac{d}{dx} [-\\ln(S_0(x))] $ \n",
        "\n",
        "\n",
        "$ \\Large \\int_{0}^{t} \\mu_x \\,dx =  {  -\\ln(S_0(t)) + -\\ln(S_0(0)) }$\n",
        "\n",
        "\n",
        "\n",
        "\n",
        "\n",
        "\n"
      ]
    },
    {
      "cell_type": "markdown",
      "metadata": {
        "id": "UxrqcFM2EXmv"
      },
      "source": [
        "We can see that\n",
        "\n",
        "$\\Large S_X(t) =  \\frac{P[T_0 \\geq x+t] }{P[T_0 >x]} = \\frac{S_0(x+t)}{S_0(x)} $\n",
        "\n",
        "It follows\n",
        "\n",
        "$\\Large S_X(t)  = \\frac{S_0(x+t)}{S_0(x)}  = \n",
        "\\frac{e^{-\\int_{0}^{x+t} {\\mu}_{r} dr}}{e^{-\\int_{0}^{x} {\\mu}_{r} dr}} $\n",
        "\n",
        "$\\Large = e^{-\\int_{x}^{x+t} {\\mu}_{r} dr} = e^{-\\int_{0}^{t} {\\mu}_{x+r} dr} $"
      ]
    },
    {
      "cell_type": "markdown",
      "metadata": {
        "id": "5sWlEWUFD-70"
      },
      "source": [
        "\n",
        "**Makeham Law of Mortality (1860):​ **\n",
        "​\n",
        "\n",
        "Considers $\\mu_x(t)$ as an exponential function in terms of A,B,C where A > 0, 0 < B < 1 and C > 1. ​\n",
        "\n",
        "$\\Large { {{\\mu}(x) = A + BC^{x}}}$\n",
        "\n",
        "\n",
        "$ \\Large {{\\mu}(x+r) = A + BC^{x}C^{r}}$\n",
        "\n",
        "$ \\Large {S_x(t) = e^{-\\int_{0}^{t} {\\mu}_{x+r} dr}}$\n",
        "\n",
        "$ \\Large {S_x(t) = e^{-A\\int_{0}^{t} dr -BC^x\\int_{0}^{t}C^r dr }  }$\n",
        "\n",
        "$ \\Large { = e^{-tA -\\frac{BC^x}{\\ln(C)} (C^t -1) }  }$\n",
        "\n",
        "\n",
        "\n",
        "​\n",
        "\n",
        "\n",
        "\n",
        "\n",
        "\n",
        "\n"
      ]
    },
    {
      "cell_type": "code",
      "metadata": {
        "id": "dfv264FR1sTz"
      },
      "source": [
        "import pandas as pd\n",
        "import numpy as np\n",
        "import matplotlib.pyplot as plt\n",
        "from scipy.optimize import curve_fit"
      ],
      "execution_count": 28,
      "outputs": []
    },
    {
      "cell_type": "markdown",
      "metadata": {
        "id": "0C5RWrdVu2ie"
      },
      "source": [
        "## **Fitting the Survival Function**"
      ]
    },
    {
      "cell_type": "markdown",
      "metadata": {
        "id": "SQY3CfMNTRs_"
      },
      "source": [
        "**We are fitting the curve on columns Age and S from the CSV file**\n",
        "Here S is $S_{0}(t)$. Hence, we put x=0 in the formula of Makeham Law."
      ]
    },
    {
      "cell_type": "code",
      "metadata": {
        "id": "ss9nfL4A0u1C"
      },
      "source": [
        "def survival_function_formula(t,A,B,C):\n",
        "    return np.exp(-(t*A +B*(pow(C,t)-1)/np.log(C)))"
      ],
      "execution_count": 29,
      "outputs": []
    },
    {
      "cell_type": "code",
      "metadata": {
        "id": "OOIHCu9upxl_"
      },
      "source": [
        "#Importing Data\n",
        "url='https://raw.githubusercontent.com/tejasvee98/MA471-Survival-Analysis/main/MA471_data.csv'\n",
        "df = pd.read_csv(url)\n",
        "age=df['Age']\n",
        "S=df['S']"
      ],
      "execution_count": 30,
      "outputs": []
    },
    {
      "cell_type": "markdown",
      "metadata": {
        "id": "AK3eH5FdmOKy"
      },
      "source": [
        "We are using curve_fit from scipy library. We have defined Survival functions with the parameters A,B,C and will compute these values​.\n",
        "\n",
        "**Function Used Explained:**\n",
        "\n",
        "scipy.optimize.curve_fit(f, xdata, ydata, p0, bounds)\n",
        "\n",
        "\n",
        "f: The model function, f(x, …). It must take the independent variable as the first argument and the parameters to fit as separate remaining argument​\n",
        "\n",
        "xdata : The independent variable​\n",
        "\n",
        "ydata : The dependent data​\n",
        "\n",
        "p0: Initial guess for the parameters ​\n",
        "\n",
        "bounds : Lower and upper bounds on parameters​\n",
        "\n",
        "We are using curve_fit function to fit the survival function on the independent variable age and dependent variable Survival Function, S, to calculate probability of survival of t years.​\n",
        "​"
      ]
    },
    {
      "cell_type": "code",
      "metadata": {
        "tags": [],
        "id": "Glpa-TCn0u1K",
        "outputId": "cfb1ebc5-72eb-4c12-9c59-8e454bb738be",
        "colab": {
          "base_uri": "https://localhost:8080/",
          "height": 315
        }
      },
      "source": [
        "plt.plot(age, S, 'b-', label='data')\n",
        "popt, pcov = curve_fit(survival_function_formula, age, S, p0 = [1, 0.5, 1], bounds=((0,0,1), (float('inf'), 1., float('inf'))))\n",
        "print(\"Parameters A,B, C are\", *popt, \"respectively\")\n",
        "print(\"Plot of estimated (dashed line) and actual (solid line) functions:\")\n",
        "plt.plot(age, survival_function_formula(age, *popt), 'g--',label='fit: A=%5.3f, B=%5.3f, c=%5.3f' % tuple(popt))"
      ],
      "execution_count": 31,
      "outputs": [
        {
          "output_type": "stream",
          "text": [
            "Parameters A,B, C are 1.0 0.5 1.0000000001 respectively\n",
            "Plot of estimated (dashed line) and actual (solid line) functions:\n"
          ],
          "name": "stdout"
        },
        {
          "output_type": "execute_result",
          "data": {
            "text/plain": [
              "[<matplotlib.lines.Line2D at 0x7f5b0a7a6ef0>]"
            ]
          },
          "metadata": {
            "tags": []
          },
          "execution_count": 31
        },
        {
          "output_type": "display_data",
          "data": {
            "image/png": "[encoded data removed]",
            "text/plain": [
              "<Figure size 432x288 with 1 Axes>"
            ]
          },
          "metadata": {
            "tags": [],
            "needs_background": "light"
          }
        }
      ]
    },
    {
      "cell_type": "markdown",
      "metadata": {
        "id": "QybDjJMWmrGI"
      },
      "source": [
        "**We had a problem.** We were getting flattened curves and popt (vector of parameters) that was returned was same as p0 or very slightly progressed from p0. Below is one of the only cases of p0 where some progress was scene.\n",
        "A flattened curve using Scipy Curve Fit is an indicator of the function blowing up.  We can see that the function has blown up. In the survival function we have C to the power of t where C>1 and t goes up till 99. For large value of t, the function blows up. Hence the values of parameter A and B hasn't changed and C has only progressed by .0000000001."
      ]
    },
    {
      "cell_type": "markdown",
      "metadata": {
        "id": "HKJnSxhlnQDk"
      },
      "source": [
        "## **Solution to Blowing Up​**\n",
        "\n",
        "We have used ageNormalized = age/100 as a method of normalization​. This is basically only changing the unit of time and hence it does not affect the calculations in our case.\n",
        "​"
      ]
    },
    {
      "cell_type": "code",
      "metadata": {
        "tags": [],
        "id": "gPXvYqhH0u1O",
        "outputId": "698569ba-c9c3-4a09-c02b-776703b42a02",
        "colab": {
          "base_uri": "https://localhost:8080/",
          "height": 315
        }
      },
      "source": [
        "ageNormalized= age/100\n",
        "plt.plot(ageNormalized, S, 'b-', label='data')\n",
        "popt, pcov = curve_fit(survival_function_formula, ageNormalized, S, p0 = [1, 0.5, 1], bounds=((0,0,1), (float('inf'), 1., float('inf'))))\n",
        "print(\"Parameters A,B, C are\", *popt, \"respectively\")\n",
        "print(\"Plot of estimated (dashed line) and actual (solid line) functions:\")\n",
        "plt.plot(ageNormalized, survival_function_formula(ageNormalized, *popt), 'g--',label='fit: A=%5.3f, B=%5.3f, c=%5.3f' % tuple(popt))"
      ],
      "execution_count": 32,
      "outputs": [
        {
          "output_type": "stream",
          "text": [
            "Parameters A,B, C are 0.03765461898585783 0.002398809875434788 33760.981692599475 respectively\n",
            "Plot of estimated (dashed line) and actual (solid line) functions:\n"
          ],
          "name": "stdout"
        },
        {
          "output_type": "execute_result",
          "data": {
            "text/plain": [
              "[<matplotlib.lines.Line2D at 0x7f5b0a7192e8>]"
            ]
          },
          "metadata": {
            "tags": []
          },
          "execution_count": 32
        },
        {
          "output_type": "display_data",
          "data": {
            "image/png": "[encoded data removed]",
            "text/plain": [
              "<Figure size 432x288 with 1 Axes>"
            ]
          },
          "metadata": {
            "tags": [],
            "needs_background": "light"
          }
        }
      ]
    },
    {
      "cell_type": "markdown",
      "metadata": {
        "id": "ZLzpgWuZpoEd"
      },
      "source": [
        "We can see that the function now is fitting well after normalization. The final value of c is 33760.98. We couldn't have gotten at this value without normalization as pow(C,t) was blowing up at C just a little greater than 1, there was no way it would have reached to 33760.98​."
      ]
    },
    {
      "cell_type": "code",
      "metadata": {
        "tags": [],
        "id": "nb0LPxIo0u1S",
        "outputId": "a00c3f3d-b837-48d0-fe8b-b312bb0c748e",
        "colab": {
          "base_uri": "https://localhost:8080/",
          "height": 34
        }
      },
      "source": [
        "print(\"The probability of surviving three more months if a person has survived 60 years is: \", survival_function_formula(0.6025, *popt)/survival_function_formula(0.60, *popt))"
      ],
      "execution_count": 33,
      "outputs": [
        {
          "output_type": "stream",
          "text": [
            "The probability of surviving three more months if a person has survived 60 years is:  0.9967441051976619\n"
          ],
          "name": "stdout"
        }
      ]
    },
    {
      "cell_type": "code",
      "metadata": {
        "tags": [],
        "id": "JoUlXhdb0u1W",
        "outputId": "4b9df2be-4ce9-4003-8c77-e0225d9cf8d0",
        "colab": {
          "base_uri": "https://localhost:8080/",
          "height": 34
        }
      },
      "source": [
        "sigma = np.sqrt(np.diag(pcov)) #standard deviation errors on the parameters\n",
        "print(\"The standard deviations for A,B,C are\", sigma, \"respectively\")"
      ],
      "execution_count": 34,
      "outputs": [
        {
          "output_type": "stream",
          "text": [
            "The standard deviations for A,B,C are [1.81009148e-03 7.12964184e-05 1.37358796e+03] respectively\n"
          ],
          "name": "stdout"
        }
      ]
    },
    {
      "cell_type": "markdown",
      "metadata": {
        "id": "b06e6KJ7Dtq8"
      },
      "source": [
        "## **Confidence Intervals**\n",
        "\n",
        "A confidence interval is a type of estimate computed from the statistics of the observed data. This proposes a range of plausible values for an unknown parameter. The interval has an associated confidence level that the true parameter is in the proposed range. The confidence level represents the frequency  of possible confidence intervals that contain the true value of the unknown  parameter. In other words, if confidence intervals are constructed using a given confidence level from an infinite number of independent sample statistics, the proportion of those intervals that contain the true value of the parameter will be equal to the confidence level."
      ]
    },
    {
      "cell_type": "markdown",
      "metadata": {
        "id": "TuaqVb4h68Cb"
      },
      "source": [
        "**Parametric Bootstrapping To Compute Confidence Intervals of Fitted Parameters**\n",
        "\n",
        "$θ$ is the vector of parameters whose values we wish to find along with the confidence intervals. Parametric bootstrapping is used to achieve this. Steps involved in Parametric Bootstrapping:\n",
        "\n",
        "1. Find $\\widehat{θ}$ that estimates $θ$.\n",
        "2. Bootstrap samples are drawn from F($\\widehat{θ}$).\n",
        "3. For each bootstrap sample $x_{1}^{*}$, . . . , $x_{n}^{*}$\n",
        "we compute $θ_{temp}$.\n",
        "4. $θ_{temp}$ is appended to the matrix $\\widehat{θ}^{*}$ whose rows store values of parameters derived from each sample.\n",
        "5. After calculation of $\\widehat{θ}^{*}$ is complete, the bootstrap difference $δ^{*}$ = $\\widehat{θ}^{*}$ − $\\widehat{θ}$ is calculated.\n",
        "4. The bootstrap principle says that the distribution of $δ^{*}$ approximates the distribution of $δ$ = $\\widehat{θ}$ − $θ$. We use the bootstrap differences to make a bootstrap confidence interval for $θ$."
      ]
    },
    {
      "cell_type": "code",
      "metadata": {
        "id": "_FaWWzz81sT6"
      },
      "source": [
        "def getConfidenceIntervals(func, thetaHat, p0Val, boundsVal):\n",
        "    #Step 1 is already done using curve fit by calling the function \"results\". \n",
        "    #thetaHat value is made available to this function as an argument.\n",
        "    n = age.size\n",
        "    numOfSamples=n\n",
        "    thetaStar = np.zeros(shape=(numOfSamples,thetaHat.size))\n",
        "    for i in range(numOfSamples):\n",
        "        #Step 2 involves generating random values for xData to be fed to Curve Fit, \n",
        "        #yData is calculated by finding the function value at xData and thetaHat\n",
        "        #Hence, (xData, yData) are samples drawn from F(thetaHat)\n",
        "        sample=np.random.randint(0,n-1,n)\n",
        "        sample=0.14 + 0.01*sample\n",
        "        #Step 3, thetaTemp is computed using curve fit on (xData, yData) sampled from F(thetaHat)\n",
        "        thetaTemp, pcov= curve_fit(func, sample, func(sample, *thetaHat), p0 = p0Val, bounds= boundsVal) \n",
        "        #Step 4\n",
        "        thetaStar[ i, :] = thetaTemp\n",
        "    #Step 5 \n",
        "    deltaStar = thetaStar - thetaHat \n",
        "    #Step 6, Finding 90% confidence intervals for parameters\n",
        "    q1=np.quantile(deltaStar,0.05,0)\n",
        "    q2=np.quantile(deltaStar,0.95,0)\n",
        "    for i in range(thetaHat.size):\n",
        "        print(\"[\", thetaHat[i]-q2[i], \",\", thetaHat[i]-q1[i], \"]\")"
      ],
      "execution_count": 35,
      "outputs": []
    },
    {
      "cell_type": "code",
      "metadata": {
        "id": "0mH8gy3Aqx9s",
        "outputId": "0ae408f3-bcd6-4718-f36b-50bc111bdedc",
        "colab": {
          "base_uri": "https://localhost:8080/",
          "height": 67
        }
      },
      "source": [
        "getConfidenceIntervals(survival_function_formula,popt,[1, 0.5, 1],((0,0,1), (float('inf'), 1., float('inf'))))"
      ],
      "execution_count": 36,
      "outputs": [
        {
          "output_type": "stream",
          "text": [
            "[ -0.37083044434001927 , 0.037654618986274556 ]\n",
            "[ -0.5848855919139169 , 0.0023988098754348444 ]\n",
            "[ 33760.98169259814 , 67520.96338519895 ]\n"
          ],
          "name": "stdout"
        }
      ]
    },
    {
      "cell_type": "markdown",
      "metadata": {
        "id": "EPPQbKV21sTx"
      },
      "source": [
        "# **Fitting Mortality Data to various Distributions**"
      ]
    },
    {
      "cell_type": "markdown",
      "metadata": {
        "id": "mDFwPSu51sT3"
      },
      "source": [
        "X is the Random Variable for age at death. It's CDF is F, pdf f and Survival Function S(=1-F). (x) symbolizes an individual aged x and T(x) denotes the future lifetime of (x) at age x.<br>The survival function of T(x) is written as - \n",
        "$P_x(t)=P(X > x + t | X > x)=\\frac{S(x+t)}{S(x)} $<br>\n",
        "$P_x(t)$ gives the survival probability that (x) survives for more than t years<br>\n",
        "$Q_x(t)=1-P_x(t)$ gives the distribution function of T(x) and represents the probability that (x) does not survive beyond age t.<br>\n",
        "The force of mortality is an important and fundamental concept in modelling future lifetime and is defined as <br>\n",
        "$\\mu_x(t)= lim_{dt\\to0^{+}}\\frac{1}{dt}P[t<T(x)\\leq t + dt|T(x)>t]=\\frac{f(x+t)}{S(x+t)}$\n"
      ]
    },
    {
      "cell_type": "code",
      "metadata": {
        "id": "JM5IRZiw1sT3"
      },
      "source": [
        "#Importing Data\n",
        "age=ageNormalized\n",
        "# Redefining S to be the data points for Px\n",
        "S=1-df['Mortality rate']"
      ],
      "execution_count": 37,
      "outputs": []
    },
    {
      "cell_type": "markdown",
      "metadata": {
        "id": "ob704H6r1sT6"
      },
      "source": [
        "We had the mortality rate data ($ Q_x$), We fit the values of $(P_x(t)=1- Q_x(t))$ to different distributions to get $P_x(t)$ curve we have defined. "
      ]
    },
    {
      "cell_type": "code",
      "metadata": {
        "id": "Kzu-3ZVn1sT9"
      },
      "source": [
        "def results(func,popt,cov):\n",
        "    '''Utility Function to display the results of our analysis'''\n",
        "    x=0.60\n",
        "    t1=0.0025\n",
        "    print(\"Probility of surviving the next three months given Surivival till Age 60 =\",func(x, *popt,t=t1))\n",
        "    sigma = np.sqrt(np.diag(cov)) \n",
        "    print(\"standard deviation errors on the parameters\")\n",
        "    print(sigma)"
      ],
      "execution_count": 38,
      "outputs": []
    },
    {
      "cell_type": "code",
      "metadata": {
        "id": "wuKJHwu71sUA"
      },
      "source": [
        "def fit_curve(age,S,func,initial_values,bounds):\n",
        "    ''' Utility function to fit the curve on data points''' \n",
        "    plt.plot(age, S, 'b-', label='data')\n",
        "    popt, pcov = curve_fit(func, age, S, p0 = initial_values, bounds=bounds)\n",
        "    plt.plot(age, func(age, *popt), 'g--')\n",
        "    return popt,pcov"
      ],
      "execution_count": 39,
      "outputs": []
    },
    {
      "cell_type": "markdown",
      "metadata": {
        "id": "djp0_EOX1sUD"
      },
      "source": [
        "## Exponential Distribution\n",
        "$X \\sim exp(\\lambda)$<br>\n",
        "$P_x(t) \\sim e^{-\\lambda t}$<br>\n",
        "$\\mu_x(t) \\sim \\lambda$\n",
        "\n",
        "Here, the probability of survival is independent of initial age, and only depends on the variable t"
      ]
    },
    {
      "cell_type": "code",
      "metadata": {
        "tags": [],
        "id": "0sIBYizL1sUE"
      },
      "source": [
        "def exp_survival(age,lam,t=0.01):\n",
        "    return np.exp(-lam*t)"
      ],
      "execution_count": 40,
      "outputs": []
    },
    {
      "cell_type": "code",
      "metadata": {
        "scrolled": true,
        "tags": [],
        "id": "R96NgGoq1sUH",
        "outputId": "bad16d92-ded4-43c2-9f9d-97b598bc8f1e",
        "colab": {
          "base_uri": "https://localhost:8080/",
          "height": 282
        }
      },
      "source": [
        "plt.plot(age, S, 'b-', label='data')\n",
        "popt, pcov = curve_fit(exp_survival, age, S, p0 = 1, bounds=(0,float(\"inf\")))\n",
        "plt.plot(age, exp_survival(age, *popt)*np.ones(86), 'g--')"
      ],
      "execution_count": 41,
      "outputs": [
        {
          "output_type": "execute_result",
          "data": {
            "text/plain": [
              "[<matplotlib.lines.Line2D at 0x7f5b0a6f7f60>]"
            ]
          },
          "metadata": {
            "tags": []
          },
          "execution_count": 41
        },
        {
          "output_type": "display_data",
          "data": {
            "image/png": "[encoded data removed]",
            "text/plain": [
              "<Figure size 432x288 with 1 Axes>"
            ]
          },
          "metadata": {
            "tags": [],
            "needs_background": "light"
          }
        }
      ]
    },
    {
      "cell_type": "code",
      "metadata": {
        "tags": [],
        "id": "9iklrhEz1sUK",
        "outputId": "a0a0999e-cfce-44c1-8e6c-d187ef8caaf8",
        "colab": {
          "base_uri": "https://localhost:8080/",
          "height": 134
        }
      },
      "source": [
        "results(exp_survival,popt,pcov)\n",
        "print(\"Confidence intervals: \")\n",
        "getConfidenceIntervals(exp_survival, popt, 1, (0,float(\"inf\")))"
      ],
      "execution_count": 42,
      "outputs": [
        {
          "output_type": "stream",
          "text": [
            "Probility of surviving the next three months given Surivival till Age 60 = 0.9833741854698006\n",
            "standard deviation errors on the parameters\n",
            "[1.17855203]\n",
            "Confidence intervals: \n"
          ],
          "name": "stdout"
        },
        {
          "output_type": "stream",
          "text": [
            "/usr/local/lib/python3.6/dist-packages/scipy/optimize/minpack.py:808: OptimizeWarning: Covariance of the parameters could not be estimated\n",
            "  category=OptimizeWarning)\n"
          ],
          "name": "stderr"
        },
        {
          "output_type": "stream",
          "text": [
            "[ 6.706236436653995 , 6.706236436653995 ]\n"
          ],
          "name": "stdout"
        }
      ]
    },
    {
      "cell_type": "markdown",
      "metadata": {
        "id": "hJVTS-tB1sUM"
      },
      "source": [
        "## Weibull Distribution \n",
        "\n",
        "$\\large{X \\sim Weibull(\\alpha,\\lambda)\\ (\\alpha>0 \\ and \\ \\lambda>0)}$<br>\n",
        "$\\large{P_x(t) \\sim \\frac{e^{-(\\lambda(x+t))^\\alpha}}{e^{-(\\lambda x)^\\alpha}}}$<br>\n",
        "$\\large{\\mu_x(t) \\sim \\alpha \\lambda^{\\alpha}(x+t)^{\\alpha -1}}$\n",
        "\n",
        "\n"
      ]
    },
    {
      "cell_type": "code",
      "metadata": {
        "id": "uBljj6Vy1sUN"
      },
      "source": [
        "def weibull_survival(age,alpha,lam,t=0.01):\n",
        "    return np.exp(-pow((lam*(age+t)),alpha))/np.exp(-pow((lam*(age)),alpha))"
      ],
      "execution_count": 43,
      "outputs": []
    },
    {
      "cell_type": "code",
      "metadata": {
        "tags": [],
        "id": "W6os0I3L1sUP",
        "outputId": "e6fca791-9935-43a7-8c8e-636477087726",
        "colab": {
          "base_uri": "https://localhost:8080/",
          "height": 265
        }
      },
      "source": [
        "popt,pcov=fit_curve(age,S,weibull_survival,(1,1),((0,0),(float(\"inf\"),float(\"inf\"))))"
      ],
      "execution_count": 44,
      "outputs": [
        {
          "output_type": "display_data",
          "data": {
            "image/png": "[encoded data removed]",
            "text/plain": [
              "<Figure size 432x288 with 1 Axes>"
            ]
          },
          "metadata": {
            "tags": [],
            "needs_background": "light"
          }
        }
      ]
    },
    {
      "cell_type": "code",
      "metadata": {
        "tags": [],
        "id": "eRBqpmoJ1sUS",
        "outputId": "ce43c88c-7271-4eaa-92ce-bb12e6942a1d",
        "colab": {
          "base_uri": "https://localhost:8080/",
          "height": 118
        }
      },
      "source": [
        "results(weibull_survival,popt,pcov)\n",
        "print(\"Confidence intervals: \")\n",
        "getConfidenceIntervals(weibull_survival, popt, (1,1),((0,0),(float(\"inf\"),float(\"inf\"))))"
      ],
      "execution_count": 45,
      "outputs": [
        {
          "output_type": "stream",
          "text": [
            "Probility of surviving the next three months given Surivival till Age 60 = 0.9965424643036773\n",
            "standard deviation errors on the parameters\n",
            "[0.04403948 0.00190915]\n",
            "Confidence intervals: \n",
            "[ 8.108163649891674 , 8.108163708821499 ]\n",
            "[ 1.2561893557919035 , 1.2561893581023351 ]\n"
          ],
          "name": "stdout"
        }
      ]
    },
    {
      "cell_type": "markdown",
      "metadata": {
        "id": "IFyBZinn1sUU"
      },
      "source": [
        "## Pareto Distribution\n",
        "$ \\large{X \\sim Pareto(\\theta) \\ (\\theta > 0)}$<br>\n",
        "$\\large{P_x(t) = \\frac{x^{\\theta}}{(x+t)^{\\theta}}}$<br>\n",
        "$\\large{\\mu_x(t) = \\frac{\\theta}{x+t}}$"
      ]
    },
    {
      "cell_type": "code",
      "metadata": {
        "id": "LTWWG1BS1sUV"
      },
      "source": [
        "def pareto_survival(age,theta,t=0.01):\n",
        "    return pow(age,theta)/pow((age+t),theta)"
      ],
      "execution_count": 46,
      "outputs": []
    },
    {
      "cell_type": "code",
      "metadata": {
        "tags": [],
        "id": "OfH1XTPs1sUX",
        "outputId": "210e09e7-214e-4092-9c2f-2e6ede659b98",
        "colab": {
          "base_uri": "https://localhost:8080/",
          "height": 265
        }
      },
      "source": [
        "popt,pcov=fit_curve(age,S,pareto_survival,7,((0),(float(\"inf\"))))"
      ],
      "execution_count": 47,
      "outputs": [
        {
          "output_type": "display_data",
          "data": {
            "image/png": "[encoded data removed]",
            "text/plain": [
              "<Figure size 432x288 with 1 Axes>"
            ]
          },
          "metadata": {
            "tags": [],
            "needs_background": "light"
          }
        }
      ]
    },
    {
      "cell_type": "code",
      "metadata": {
        "tags": [],
        "id": "vkNLdCuS1sUa",
        "outputId": "7aab6c10-4527-4512-eb8e-ddacbf649645",
        "colab": {
          "base_uri": "https://localhost:8080/",
          "height": 101
        }
      },
      "source": [
        "results(pareto_survival,popt,pcov)\n",
        "print(\"Confidence intervals: \")\n",
        "getConfidenceIntervals(pareto_survival, popt, 7,((0),(float(\"inf\"))))"
      ],
      "execution_count": 48,
      "outputs": [
        {
          "output_type": "stream",
          "text": [
            "Probility of surviving the next three months given Surivival till Age 60 = 0.9953752689484279\n",
            "standard deviation errors on the parameters\n",
            "[0.49709074]\n",
            "Confidence intervals: \n",
            "[ 1.1148260924440407 , 1.114826092456753 ]\n"
          ],
          "name": "stdout"
        }
      ]
    },
    {
      "cell_type": "markdown",
      "metadata": {
        "id": "OlgfUOz21sUc"
      },
      "source": [
        "## Makeham Gompertz\n",
        "$\\large{X \\sim Gompertz(\\alpha,\\beta,\\lambda)}$<br>\n",
        "$\\large{S_x(t)=e^{-\\alpha t- \\beta \\lambda^{x} (\\frac{\\lambda^{t}-1}{\\log \\lambda}) }}$<br>\n",
        "$\\large{\\mu_x(t)=\\alpha + \\beta \\lambda^{x+t}}$"
      ]
    },
    {
      "cell_type": "code",
      "metadata": {
        "id": "wduyS6f31sUd"
      },
      "source": [
        "def make_gomp_survival(x,A,B,lam,t=0.01):\n",
        "    return np.exp(-(t*A +B*pow(lam,x)*(pow(lam,t)-1)/np.log(lam)))"
      ],
      "execution_count": 49,
      "outputs": []
    },
    {
      "cell_type": "code",
      "metadata": {
        "tags": [],
        "id": "QyETrcHf1sUf",
        "outputId": "94459265-a3fc-4778-c157-d6babedb6727",
        "colab": {
          "base_uri": "https://localhost:8080/",
          "height": 265
        }
      },
      "source": [
        "popt,pcov=fit_curve(age,S,make_gomp_survival,[1,0.5,1],bounds=((0,0,1), (100, 1., 10000)))"
      ],
      "execution_count": 50,
      "outputs": [
        {
          "output_type": "display_data",
          "data": {
            "image/png": "[encoded data removed]",
            "text/plain": [
              "<Figure size 432x288 with 1 Axes>"
            ]
          },
          "metadata": {
            "tags": [],
            "needs_background": "light"
          }
        }
      ]
    },
    {
      "cell_type": "code",
      "metadata": {
        "tags": [],
        "id": "GgCHYBDI1sUh",
        "outputId": "7c279ebe-92c7-4657-c644-f7b5d4d6b31a",
        "colab": {
          "base_uri": "https://localhost:8080/",
          "height": 134
        }
      },
      "source": [
        "results(make_gomp_survival,popt,pcov)\n",
        "print(\"Confidence intervals: \")\n",
        "getConfidenceIntervals(make_gomp_survival, popt, [1,0.5,1],((0,0,1), (100, 1., 10000)))"
      ],
      "execution_count": 51,
      "outputs": [
        {
          "output_type": "stream",
          "text": [
            "Probility of surviving the next three months given Surivival till Age 60 = 0.9950095403766779\n",
            "standard deviation errors on the parameters\n",
            "[1.09526144e-01 1.67717604e-03 4.86648766e+02]\n",
            "Confidence intervals: \n",
            "[ -6.208398718412727 , -4.659531628111018e-11 ]\n",
            "[ -0.4983084787078568 , 0.013978448178425173 ]\n",
            "[ 3850.939624480047 , 7700.986536926515 ]\n"
          ],
          "name": "stdout"
        }
      ]
    },
    {
      "cell_type": "markdown",
      "metadata": {
        "id": "XdtAyQ5o1sUk"
      },
      "source": [
        "## Burr Distribution\n",
        "$\\large{X \\sim Burr(\\gamma,\\theta)}$<br>\n",
        "$\\large{S_x(t)=\\frac{(1+x^{\\gamma})^{\\theta}}{(1+(x+t)^{\\gamma})^{\\theta}}}$<br>\n",
        "$\\large{\\mu_x(t)=\\frac{\\gamma \\theta (1+x^{\\gamma})^{\\theta}(x+t)^{\\gamma -1}}{1+(x+t)^{\\gamma}}}$"
      ]
    },
    {
      "cell_type": "code",
      "metadata": {
        "id": "QD3vCT1l1sUl"
      },
      "source": [
        "def burr_survival(x,gamma,theta,t=0.01):\n",
        "    return pow(1+pow(x,gamma),theta)/pow(1+pow(x+t,gamma),theta)"
      ],
      "execution_count": 52,
      "outputs": []
    },
    {
      "cell_type": "code",
      "metadata": {
        "tags": [],
        "id": "ckQUGK0-1sUn",
        "outputId": "a99b5c75-e872-42c6-d1b9-1687e717837d",
        "colab": {
          "base_uri": "https://localhost:8080/",
          "height": 265
        }
      },
      "source": [
        "popt,pcov=fit_curve(age,S,burr_survival,(0.1,0.1),((0,0),(float('inf'),float('inf'))))"
      ],
      "execution_count": 53,
      "outputs": [
        {
          "output_type": "display_data",
          "data": {
            "image/png": "[encoded data removed]",
            "text/plain": [
              "<Figure size 432x288 with 1 Axes>"
            ]
          },
          "metadata": {
            "tags": [],
            "needs_background": "light"
          }
        }
      ]
    },
    {
      "cell_type": "code",
      "metadata": {
        "tags": [],
        "id": "yrgCpx1s1sUq",
        "outputId": "c57b42b0-da69-40d7-aceb-6ddc8e5ddea7",
        "colab": {
          "base_uri": "https://localhost:8080/",
          "height": 118
        }
      },
      "source": [
        "results(burr_survival,popt,pcov)\n",
        "print(\"Confidence intervals: \")\n",
        "getConfidenceIntervals(burr_survival, popt, (0.1,0.1),((0,0),(float('inf'),float('inf'))))"
      ],
      "execution_count": 54,
      "outputs": [
        {
          "output_type": "stream",
          "text": [
            "Probility of surviving the next three months given Surivival till Age 60 = 0.9980873726000076\n",
            "standard deviation errors on the parameters\n",
            "[0.06716871 0.04372561]\n",
            "Confidence intervals: \n",
            "[ 10.432623549051128 , 10.43262354920771 ]\n",
            "[ 8.952090091089016 , 8.952090091162312 ]\n"
          ],
          "name": "stdout"
        }
      ]
    },
    {
      "cell_type": "markdown",
      "metadata": {
        "id": "nQCIzpkY1sUt"
      },
      "source": [
        "## Exponentiated exponential\n",
        "$\\large{X \\sim Exponentiated \\ Exp(\\alpha,\\lambda);}$<br>\n",
        "$\\large{S_x(t)=\\frac{1-(1-e^{-\\lambda(x+t)})^{\\alpha}}{1-(1-e^{-\\lambda x})^{\\alpha}}}$<br>\n",
        "$\\large{\\mu_x(t)=\\frac{\\alpha (1-e^{-\\lambda(x+t)})^{\\alpha-1} \\lambda e^{-\\lambda(x+t)}}{1-(1-e^{-\\lambda(x+t)})^{\\alpha}}}$"
      ]
    },
    {
      "cell_type": "code",
      "metadata": {
        "id": "JYSO9D1P1sUt"
      },
      "source": [
        "def exp_exp_survival(x,alpha,lam,t=0.01):\n",
        "    return 1-pow(1-np.exp(-lam*(x+t)),alpha)/1-pow(1-np.exp(-lam*(x)),alpha)"
      ],
      "execution_count": 55,
      "outputs": []
    },
    {
      "cell_type": "code",
      "metadata": {
        "tags": [],
        "id": "DIkbPT7_1sUv",
        "outputId": "7d546964-79bd-450e-da17-afd64c9d601f",
        "colab": {
          "base_uri": "https://localhost:8080/",
          "height": 265
        }
      },
      "source": [
        "popt,pcov=fit_curve(age,S,exp_exp_survival,(1,1),((0,0),(float('inf'),float('inf'))))"
      ],
      "execution_count": 56,
      "outputs": [
        {
          "output_type": "display_data",
          "data": {
            "image/png": "[encoded data removed]",
            "text/plain": [
              "<Figure size 432x288 with 1 Axes>"
            ]
          },
          "metadata": {
            "tags": [],
            "needs_background": "light"
          }
        }
      ]
    },
    {
      "cell_type": "code",
      "metadata": {
        "tags": [],
        "id": "MUvi7XWJ1sUx",
        "outputId": "2d86dd17-3361-4fcc-c250-8916bdc6e22b",
        "colab": {
          "base_uri": "https://localhost:8080/",
          "height": 118
        }
      },
      "source": [
        "results(exp_exp_survival,popt,pcov)\n",
        "print(\"Confidence intervals: \")\n",
        "getConfidenceIntervals(exp_exp_survival, popt, (1,1),((0,0),(float('inf'),float('inf'))))"
      ],
      "execution_count": 57,
      "outputs": [
        {
          "output_type": "stream",
          "text": [
            "Probility of surviving the next three months given Surivival till Age 60 = 0.9921487880131341\n",
            "standard deviation errors on the parameters\n",
            "[0.42521878 0.01565779]\n",
            "Confidence intervals: \n",
            "[ 28.839188168422844 , 28.839188239722365 ]\n",
            "[ 2.9009277484553238 , 2.900927750941297 ]\n"
          ],
          "name": "stdout"
        }
      ]
    },
    {
      "cell_type": "markdown",
      "metadata": {
        "id": "myvt7u5DybwX"
      },
      "source": [
        "We can see that the values of survival for 3 months after the person has survived till age 60 agree for most distributions and is around 0.99. \n",
        "\n",
        "We see poor fitting for exponential and pareto distributions and we shall not use them for any future analysis."
      ]
    },
    {
      "cell_type": "code",
      "metadata": {
        "id": "gfw_OCyZuGVG"
      },
      "source": [
        ""
      ],
      "execution_count": 57,
      "outputs": []
    }
  ]
}