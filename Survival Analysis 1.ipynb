{
  "nbformat": 4,
  "nbformat_minor": 0,
  "metadata": {
    "kernelspec": {
      "name": "Python 3.8.5 32-bit",
      "display_name": "Python 3.8.5 32-bit",
      "metadata": {
        "interpreter": {
          "hash": "e3b4fb4671bf1b746205191bba2d4597e78dd9338b359fd1ad0151f7cf0a9919"
        }
      }
    },
    "language_info": {
      "codemirror_mode": {
        "name": "ipython",
        "version": 3
      },
      "file_extension": ".py",
      "mimetype": "text/x-python",
      "name": "python",
      "nbconvert_exporter": "python",
      "pygments_lexer": "ipython3",
      "version": "3.8.5-final"
    },
    "colab": {
      "name": "Notebook1.ipynb",
      "provenance": [],
      "collapsed_sections": [],
      "toc_visible": true,
      "include_colab_link": true
    }
  },
  "cells": [
    {
      "cell_type": "markdown",
      "metadata": {
        "id": "view-in-github",
        "colab_type": "text"
      },
      "source": [
        "<a href=\"https://colab.research.google.com/github/tejasvee98/MA471-Survival-Analysis/blob/main/Survival%20Analysis%201.ipynb\" target=\"_parent\"><img src=\"https://colab.research.google.com/assets/colab-badge.svg\" alt=\"Open In Colab\"/></a>"
      ]
    },
    {
      "cell_type": "markdown",
      "metadata": {
        "id": "EPPQbKV21sTx"
      },
      "source": [
        "# Fitting Mortality Data to various Distributions"
      ]
    },
    {
      "cell_type": "code",
      "metadata": {
        "id": "dfv264FR1sTz"
      },
      "source": [
        "import pandas as pd\n",
        "import numpy as np\n",
        "import matplotlib.pyplot as plt\n",
        "from scipy.optimize import curve_fit"
      ],
      "execution_count": 5,
      "outputs": []
    },
    {
      "cell_type": "code",
      "metadata": {
        "id": "JM5IRZiw1sT3"
      },
      "source": [
        "#Importing Data\n",
        "url='https://raw.githubusercontent.com/tejasvee98/MA471-Survival-Analysis/main/MA471_data.csv'\n",
        "df = pd.read_csv(url)\n",
        "age=df['Age']\n",
        "age=age/100\n",
        "S=1-df['Mortality rate']"
      ],
      "execution_count": 6,
      "outputs": []
    },
    {
      "cell_type": "markdown",
      "metadata": {
        "id": "mDFwPSu51sT3"
      },
      "source": [
        "X is the Random Variable for age at death. It's CDF is F,pdf f and Survival Function S(=1-F). (x) symbolizes an individual aged x and T(x) denotes the future lifetime of (x) at age x.<br>The survival function of T(x) is written as - \n",
        "$P_x(t)=P(X > x + t | X > x)=\\frac{S(x+t)}{S(x)} $<br>\n",
        "$P_x(t)$ gives the survival probability that (x) survives for more than t years<br>\n",
        "$Q_x(t)=1-P_x(t)$ gives the distribution function of T(x) and represents the probability that (x) does not survive beyond age t.<br>\n",
        "The force of mortality is an important and fundamental concept in modelling future lifetime and is defined as <br>\n",
        "$\\mu_x(t)= lim_{dt\\to0^{+}}\\frac{1}{dt}P[t<T(x)\\leq t + dt|T(x)>t]=\\frac{f(x+t)}{S(x+t)}$\n"
      ]
    },
    {
      "cell_type": "markdown",
      "metadata": {
        "id": "ob704H6r1sT6"
      },
      "source": [
        "### We had the mortality rate data through which we found CDF F and Survival Function S data points. We fit the values of S to different distributions to get $P_x(t)$ curve to get survival Function. Then we can answer what's the probability of Prof Arabin surviving three more months, considering he survived till age 60."
      ]
    },
    {
      "cell_type": "code",
      "metadata": {
        "id": "Kzu-3ZVn1sT9"
      },
      "source": [
        "def results(func,popt,cov):\n",
        "    x=0.60\n",
        "    t1=0.0025\n",
        "    print(\"Probility of surviving the next three months given Surivival till Age 60 =\",func(x, *popt,t=t1))\n",
        "    sigma = np.sqrt(np.diag(cov)) \n",
        "    print(\"standard deviation errors on the parameters\")\n",
        "    print(sigma)"
      ],
      "execution_count": 7,
      "outputs": []
    },
    {
      "cell_type": "code",
      "metadata": {
        "id": "wuKJHwu71sUA"
      },
      "source": [
        "def fit_curve(age,S,func,initial_values,bounds):\n",
        "    plt.plot(age, S, 'b-', label='data')\n",
        "    popt, pcov = curve_fit(func, age, S, p0 = initial_values, bounds=bounds)\n",
        "    plt.plot(age, func(age, *popt), 'g--')\n",
        "    return popt,pcov"
      ],
      "execution_count": 8,
      "outputs": []
    },
    {
      "cell_type": "markdown",
      "metadata": {
        "id": "b06e6KJ7Dtq8"
      },
      "source": [
        "**Confidence Intervals**\n",
        "\n",
        "A confidence interval is a type of estimate computed from the statistics of the observed data. This proposes a range of plausible values for an unknown parameter. The interval has an associated confidence level that the true parameter is in the proposed range. The confidence level represents the frequency  of possible confidence intervals that contain the true value of the unknown  parameter. In other words, if confidence intervals are constructed using a given confidence level from an infinite number of independent sample statistics, the proportion of those intervals that contain the true value of the parameter will be equal to the confidence level."
      ]
    },
    {
      "cell_type": "markdown",
      "metadata": {
        "id": "TuaqVb4h68Cb"
      },
      "source": [
        "**Parametric Bootstrapping To Compute Confidence Intervals of Fitted Parameters**\n",
        "\n",
        "$θ$ is the vector of parameters whose values we wish to find along with the confidence intervals. Parametric bootstrapping is used to achieve this. Steps involved in Parametric Bootstrapping:\n",
        "\n",
        "1. Find $\\widehat{θ}$ that estimates $θ$.\n",
        "2. Bootstrap samples are drawn from F($\\widehat{θ}$).\n",
        "3. For each bootstrap sample $x_{1}^{*}$, . . . , $x_{n}^{*}$\n",
        "we compute $θ_{temp}$.\n",
        "4. $θ_{temp}$ is appended to the matrix $\\widehat{θ}^{*}$ whose rows store values of parameters derived from each sample.\n",
        "5. After calculation of $\\widehat{θ}^{*}$ is complete, the bootstrap difference $δ^{*}$ = $\\widehat{θ}^{*}$ − $\\widehat{θ}$ is calculated.\n",
        "4. The bootstrap principle says that the distribution of $δ^{*}$ approximates the distribution of $δ$ = $\\widehat{θ}$ − $θ$. We use the bootstrap differences to make a bootstrap confidence interval for $θ$."
      ]
    },
    {
      "cell_type": "code",
      "metadata": {
        "id": "_FaWWzz81sT6"
      },
      "source": [
        "def getConfidenceIntervals(func, thetaHat, p0Val, boundsVal):\n",
        "    #Step 1 is already done using curve fit by calling the function \"results\". \n",
        "    #thetaHat value is made available to this function as an argument.\n",
        "    n = age.size\n",
        "    numOfSamples=n\n",
        "    thetaStar = np.zeros(shape=(numOfSamples,thetaHat.size))\n",
        "    for i in range(numOfSamples):\n",
        "        #Step 2 involves generating random values for xData to be fed to Curve Fit, \n",
        "        #yData is calculated by finding the function value at xData and thetaHat\n",
        "        #Hence, (xData, yData) are samples drawn from F(thetaHat)\n",
        "        sample=np.random.randint(0,n-1,n)\n",
        "        sample=0.14 + 0.01*sample\n",
        "        #Step 3, thetaTemp is computed using curve fit on (xData, yData) sampled from F(thetaHat)\n",
        "        thetaTemp, pcov= curve_fit(func, sample, func(sample, *thetaHat), p0 = p0Val, bounds= boundsVal) \n",
        "        #Step 4\n",
        "        thetaStar[ i, :] = thetaTemp\n",
        "    #Step 5 \n",
        "    deltaStar = thetaStar - thetaHat \n",
        "    #Step 6, Finding 90% confidence intervals for parameters\n",
        "    q1=np.quantile(deltaStar,0.05,0)\n",
        "    q2=np.quantile(deltaStar,0.95,0)\n",
        "    for i in range(thetaHat.size):\n",
        "        print(\"[\", thetaHat[i]-q2[i], \",\", thetaHat[i]-q1[i], \"]\")"
      ],
      "execution_count": 9,
      "outputs": []
    },
    {
      "cell_type": "markdown",
      "metadata": {
        "id": "djp0_EOX1sUD"
      },
      "source": [
        "## Exponential Distribution\n",
        "$X \\sim exp(\\lambda)$<br>\n",
        "$P_x(t) \\sim e^{-\\lambda t}$<br>\n",
        "$\\mu_x(t) \\sim \\lambda$\n",
        "\n",
        "Here, the probability of survival is independent of initial age, and only depends on the variable t"
      ]
    },
    {
      "cell_type": "code",
      "metadata": {
        "tags": [],
        "id": "0sIBYizL1sUE"
      },
      "source": [
        "def exp_survival(age,lam,t=0.01):\n",
        "    return np.exp(-lam*t)"
      ],
      "execution_count": 10,
      "outputs": []
    },
    {
      "cell_type": "code",
      "metadata": {
        "scrolled": true,
        "tags": [],
        "id": "R96NgGoq1sUH",
        "outputId": "8962a28d-a777-4911-8121-2a2b44d5a427",
        "colab": {
          "base_uri": "https://localhost:8080/",
          "height": 282
        }
      },
      "source": [
        "plt.plot(age, S, 'b-', label='data')\n",
        "popt, pcov = curve_fit(exp_survival, age, S, p0 = 1, bounds=(0,float(\"inf\")))\n",
        "plt.plot(age, exp_survival(age, *popt)*np.ones(86), 'g--')"
      ],
      "execution_count": 11,
      "outputs": [
        {
          "output_type": "execute_result",
          "data": {
            "text/plain": [
              "[<matplotlib.lines.Line2D at 0x7f5b124d8a90>]"
            ]
          },
          "metadata": {
            "tags": []
          },
          "execution_count": 11
        },
        {
          "output_type": "display_data",
          "data": {
            "image/png": "[encoded data removed]",
            "text/plain": [
              "<Figure size 432x288 with 1 Axes>"
            ]
          },
          "metadata": {
            "tags": [],
            "needs_background": "light"
          }
        }
      ]
    },
    {
      "cell_type": "code",
      "metadata": {
        "tags": [],
        "id": "9iklrhEz1sUK",
        "outputId": "8077f67d-958f-4d4d-ab93-97d0f910138e",
        "colab": {
          "base_uri": "https://localhost:8080/",
          "height": 154
        }
      },
      "source": [
        "results(exp_survival,popt,pcov)\n",
        "print(\"Confidence intervals: \")\n",
        "getConfidenceIntervals(exp_survival, popt, 1, (0,float(\"inf\")))"
      ],
      "execution_count": 12,
      "outputs": [
        {
          "output_type": "stream",
          "text": [
            "Probility of surviving the next three months given Surivival till Age 60 = 0.9833741854698006\n",
            "standard deviation errors on the parameters\n",
            "[1.17855203]\n",
            "Confidence intervals: \n"
          ],
          "name": "stdout"
        },
        {
          "output_type": "stream",
          "text": [
            "/usr/local/lib/python3.6/dist-packages/scipy/optimize/minpack.py:808: OptimizeWarning: Covariance of the parameters could not be estimated\n",
            "  category=OptimizeWarning)\n"
          ],
          "name": "stderr"
        },
        {
          "output_type": "stream",
          "text": [
            "[ 6.706236436653995 , 6.706236436653995 ]\n"
          ],
          "name": "stdout"
        }
      ]
    },
    {
      "cell_type": "markdown",
      "metadata": {
        "id": "hJVTS-tB1sUM"
      },
      "source": [
        "## Weibull Distribution \n",
        "\n",
        "$\\large{X \\sim Weibull(\\alpha,\\lambda)\\ (\\alpha>0 \\ and \\ \\lambda>0)}$<br>\n",
        "$\\large{P_x(t) \\sim \\frac{e^{-(\\lambda(x+t))^\\alpha}}{e^{-(\\lambda x)^\\alpha}}}$<br>\n",
        "$\\large{\\mu_x(t) \\sim \\alpha \\lambda^{\\alpha}(x+t)^{\\alpha -1}}$\n",
        "\n",
        "\n"
      ]
    },
    {
      "cell_type": "code",
      "metadata": {
        "id": "uBljj6Vy1sUN"
      },
      "source": [
        "def weibull_survival(age,alpha,lam,t=0.01):\n",
        "    return np.exp(-pow((lam*(age+t)),alpha))/np.exp(-pow((lam*(age)),alpha))"
      ],
      "execution_count": 13,
      "outputs": []
    },
    {
      "cell_type": "code",
      "metadata": {
        "tags": [],
        "id": "W6os0I3L1sUP",
        "outputId": "1196832d-083c-4c42-dea7-b3a82f23989a",
        "colab": {
          "base_uri": "https://localhost:8080/",
          "height": 265
        }
      },
      "source": [
        "popt,pcov=fit_curve(age,S,weibull_survival,(1,1),((0,0),(float(\"inf\"),float(\"inf\"))))"
      ],
      "execution_count": 14,
      "outputs": [
        {
          "output_type": "display_data",
          "data": {
            "image/png": "[encoded data removed]",
            "text/plain": [
              "<Figure size 432x288 with 1 Axes>"
            ]
          },
          "metadata": {
            "tags": [],
            "needs_background": "light"
          }
        }
      ]
    },
    {
      "cell_type": "code",
      "metadata": {
        "tags": [],
        "id": "eRBqpmoJ1sUS",
        "outputId": "cadea886-5a6a-416d-f582-ab0c6c7954fb",
        "colab": {
          "base_uri": "https://localhost:8080/",
          "height": 118
        }
      },
      "source": [
        "results(weibull_survival,popt,pcov)\n",
        "print(\"Confidence intervals: \")\n",
        "getConfidenceIntervals(weibull_survival, popt, (1,1),((0,0),(float(\"inf\"),float(\"inf\"))))"
      ],
      "execution_count": 15,
      "outputs": [
        {
          "output_type": "stream",
          "text": [
            "Probility of surviving the next three months given Surivival till Age 60 = 0.9965424643036773\n",
            "standard deviation errors on the parameters\n",
            "[0.04403948 0.00190915]\n",
            "Confidence intervals: \n",
            "[ 8.108163644104527 , 8.108163699992534 ]\n",
            "[ 1.2561893559529171 , 1.256189358303578 ]\n"
          ],
          "name": "stdout"
        }
      ]
    },
    {
      "cell_type": "markdown",
      "metadata": {
        "id": "IFyBZinn1sUU"
      },
      "source": [
        "## Pareto Distribution\n",
        "$ \\large{X \\sim Pareto(\\theta) \\ (\\theta > 0)}$<br>\n",
        "$\\large{P_x(t) = \\frac{x^{\\theta}}{(x+t)^{\\theta}}}$<br>\n",
        "$\\large{\\mu_x(t) = \\frac{\\theta}{x+t}}$"
      ]
    },
    {
      "cell_type": "code",
      "metadata": {
        "id": "LTWWG1BS1sUV"
      },
      "source": [
        "def pareto_survival(age,theta,t=0.01):\n",
        "    return pow(age,theta)/pow((age+t),theta)"
      ],
      "execution_count": 16,
      "outputs": []
    },
    {
      "cell_type": "code",
      "metadata": {
        "tags": [],
        "id": "OfH1XTPs1sUX",
        "outputId": "81ecdad1-119e-4484-dd4e-a87d70b8f0f6",
        "colab": {
          "base_uri": "https://localhost:8080/",
          "height": 265
        }
      },
      "source": [
        "popt,pcov=fit_curve(age,S,pareto_survival,7,((0),(float(\"inf\"))))"
      ],
      "execution_count": 17,
      "outputs": [
        {
          "output_type": "display_data",
          "data": {
            "image/png": "[encoded data removed]",
            "text/plain": [
              "<Figure size 432x288 with 1 Axes>"
            ]
          },
          "metadata": {
            "tags": [],
            "needs_background": "light"
          }
        }
      ]
    },
    {
      "cell_type": "code",
      "metadata": {
        "tags": [],
        "id": "vkNLdCuS1sUa",
        "outputId": "730211cf-88fa-4c04-be5c-8b6ea686b66d",
        "colab": {
          "base_uri": "https://localhost:8080/",
          "height": 101
        }
      },
      "source": [
        "results(pareto_survival,popt,pcov)\n",
        "print(\"Confidence intervals: \")\n",
        "getConfidenceIntervals(pareto_survival, popt, 7,((0),(float(\"inf\"))))"
      ],
      "execution_count": 18,
      "outputs": [
        {
          "output_type": "stream",
          "text": [
            "Probility of surviving the next three months given Surivival till Age 60 = 0.9953752689484279\n",
            "standard deviation errors on the parameters\n",
            "[0.49709074]\n",
            "Confidence intervals: \n",
            "[ 1.114826092443846 , 1.1148260924565259 ]\n"
          ],
          "name": "stdout"
        }
      ]
    },
    {
      "cell_type": "markdown",
      "metadata": {
        "id": "OlgfUOz21sUc"
      },
      "source": [
        "## Makeham Gompertz\n",
        "$\\large{X \\sim Gompertz(\\alpha,\\beta,\\lambda)}$<br>\n",
        "$\\large{S_x(t)=e^{-\\alpha t- \\beta \\lambda^{x} (\\frac{\\lambda^{t}-1}{\\log \\lambda}) }}$<br>\n",
        "$\\large{\\mu_x(t)=\\alpha + \\beta \\lambda^{x+t}}$"
      ]
    },
    {
      "cell_type": "code",
      "metadata": {
        "id": "wduyS6f31sUd"
      },
      "source": [
        "def make_gomp_survival(x,A,B,lam,t=0.01):\n",
        "    return np.exp(-(t*A +B*pow(lam,x)*(pow(lam,t)-1)/np.log(lam)))"
      ],
      "execution_count": 19,
      "outputs": []
    },
    {
      "cell_type": "code",
      "metadata": {
        "tags": [],
        "id": "QyETrcHf1sUf",
        "outputId": "4d1e0c2d-5ae2-451c-8553-2841955e5435",
        "colab": {
          "base_uri": "https://localhost:8080/",
          "height": 265
        }
      },
      "source": [
        "popt,pcov=fit_curve(age,S,make_gomp_survival,[1,0.5,1],bounds=((0,0,1), (100, 1., 10000)))"
      ],
      "execution_count": 20,
      "outputs": [
        {
          "output_type": "display_data",
          "data": {
            "image/png": "[encoded data removed]",
            "text/plain": [
              "<Figure size 432x288 with 1 Axes>"
            ]
          },
          "metadata": {
            "tags": [],
            "needs_background": "light"
          }
        }
      ]
    },
    {
      "cell_type": "code",
      "metadata": {
        "tags": [],
        "id": "GgCHYBDI1sUh",
        "outputId": "9be0dcec-8581-4c48-ac62-84c2ecf0530f",
        "colab": {
          "base_uri": "https://localhost:8080/",
          "height": 134
        }
      },
      "source": [
        "results(make_gomp_survival,popt,pcov)\n",
        "print(\"Confidence intervals: \")\n",
        "getConfidenceIntervals(make_gomp_survival, popt, [1,0.5,1],((0,0,1), (100, 1., 10000)))"
      ],
      "execution_count": 21,
      "outputs": [
        {
          "output_type": "stream",
          "text": [
            "Probility of surviving the next three months given Surivival till Age 60 = 0.9950095403766779\n",
            "standard deviation errors on the parameters\n",
            "[1.09526144e-01 1.67717604e-03 4.86648766e+02]\n",
            "Confidence intervals: \n",
            "[ -6.459270374445506 , -5.801739913883402e-11 ]\n",
            "[ -0.49962516726405093 , 0.013978443874586991 ]\n",
            "[ 3850.9413582919324 , 7700.986536746395 ]\n"
          ],
          "name": "stdout"
        }
      ]
    },
    {
      "cell_type": "markdown",
      "metadata": {
        "id": "XdtAyQ5o1sUk"
      },
      "source": [
        "## Burr Distribution\n",
        "$\\large{X \\sim Burr(\\gamma,\\theta)}$<br>\n",
        "$\\large{S_x(t)=\\frac{(1+x^{\\gamma})^{\\theta}}{(1+(x+t)^{\\gamma})^{\\theta}}}$<br>\n",
        "$\\large{\\mu_x(t)=\\frac{\\gamma \\theta (1+x^{\\gamma})^{\\theta}(x+t)^{\\gamma -1}}{1+(x+t)^{\\gamma}}}$"
      ]
    },
    {
      "cell_type": "code",
      "metadata": {
        "id": "QD3vCT1l1sUl"
      },
      "source": [
        "def burr_survival(x,gamma,theta,t=0.01):\n",
        "    return pow(1+pow(x,gamma),theta)/pow(1+pow(x+t,gamma),theta)"
      ],
      "execution_count": 22,
      "outputs": []
    },
    {
      "cell_type": "code",
      "metadata": {
        "tags": [],
        "id": "ckQUGK0-1sUn",
        "outputId": "2cfd00ed-049f-4dc0-d178-0df53681360a",
        "colab": {
          "base_uri": "https://localhost:8080/",
          "height": 265
        }
      },
      "source": [
        "popt,pcov=fit_curve(age,S,burr_survival,(0.1,0.1),((0,0),(float('inf'),float('inf'))))"
      ],
      "execution_count": 23,
      "outputs": [
        {
          "output_type": "display_data",
          "data": {
            "image/png": "[encoded data removed]",
            "text/plain": [
              "<Figure size 432x288 with 1 Axes>"
            ]
          },
          "metadata": {
            "tags": [],
            "needs_background": "light"
          }
        }
      ]
    },
    {
      "cell_type": "code",
      "metadata": {
        "tags": [],
        "id": "yrgCpx1s1sUq",
        "outputId": "28d35cc6-c86e-4e98-872b-c1cd6630b9d6",
        "colab": {
          "base_uri": "https://localhost:8080/",
          "height": 118
        }
      },
      "source": [
        "results(burr_survival,popt,pcov)\n",
        "print(\"Confidence intervals: \")\n",
        "getConfidenceIntervals(burr_survival, popt, (0.1,0.1),((0,0),(float('inf'),float('inf'))))"
      ],
      "execution_count": 24,
      "outputs": [
        {
          "output_type": "stream",
          "text": [
            "Probility of surviving the next three months given Surivival till Age 60 = 0.9980873726000076\n",
            "standard deviation errors on the parameters\n",
            "[0.06716871 0.04372561]\n",
            "Confidence intervals: \n",
            "[ 10.43262354905107 , 10.432623549156657 ]\n",
            "[ 8.952090091089564 , 8.952090091138784 ]\n"
          ],
          "name": "stdout"
        }
      ]
    },
    {
      "cell_type": "markdown",
      "metadata": {
        "id": "nQCIzpkY1sUt"
      },
      "source": [
        "## Exponentiated exponential\n",
        "$\\large{X \\sim Exponentiated \\ Exp(\\alpha,\\lambda);}$<br>\n",
        "$\\large{S_x(t)=\\frac{1-(1-e^{-\\lambda(x+t)})^{\\alpha}}{1-(1-e^{-\\lambda x})^{\\alpha}}}$<br>\n",
        "$\\large{\\mu_x(t)=\\frac{\\alpha (1-e^{-\\lambda(x+t)})^{\\alpha-1} \\lambda e^{-\\lambda(x+t)}}{1-(1-e^{-\\lambda(x+t)})^{\\alpha}}}$"
      ]
    },
    {
      "cell_type": "code",
      "metadata": {
        "id": "JYSO9D1P1sUt"
      },
      "source": [
        "def exp_exp_survival(x,alpha,lam,t=0.01):\n",
        "    return 1-pow(1-np.exp(-lam*(x+t)),alpha)/1-pow(1-np.exp(-lam*(x)),alpha)"
      ],
      "execution_count": 25,
      "outputs": []
    },
    {
      "cell_type": "code",
      "metadata": {
        "tags": [],
        "id": "DIkbPT7_1sUv",
        "outputId": "4972cdc6-2c52-4232-f4de-b10cd0e769c1",
        "colab": {
          "base_uri": "https://localhost:8080/",
          "height": 265
        }
      },
      "source": [
        "popt,pcov=fit_curve(age,S,exp_exp_survival,(1,1),((0,0),(float('inf'),float('inf'))))"
      ],
      "execution_count": 26,
      "outputs": [
        {
          "output_type": "display_data",
          "data": {
            "image/png": "[encoded data removed]",
            "text/plain": [
              "<Figure size 432x288 with 1 Axes>"
            ]
          },
          "metadata": {
            "tags": [],
            "needs_background": "light"
          }
        }
      ]
    },
    {
      "cell_type": "code",
      "metadata": {
        "tags": [],
        "id": "MUvi7XWJ1sUx",
        "outputId": "fa03c050-4027-4e61-8291-d86ab7b9954e",
        "colab": {
          "base_uri": "https://localhost:8080/",
          "height": 118
        }
      },
      "source": [
        "results(exp_exp_survival,popt,pcov)\n",
        "print(\"Confidence intervals: \")\n",
        "getConfidenceIntervals(exp_exp_survival, popt, (1,1),((0,0),(float('inf'),float('inf'))))"
      ],
      "execution_count": 27,
      "outputs": [
        {
          "output_type": "stream",
          "text": [
            "Probility of surviving the next three months given Surivival till Age 60 = 0.9921487880131341\n",
            "standard deviation errors on the parameters\n",
            "[0.42521878 0.01565779]\n",
            "Confidence intervals: \n",
            "[ 28.839188168422602 , 28.83918835499238 ]\n",
            "[ 2.900927748455314 , 2.9009277549854 ]\n"
          ],
          "name": "stdout"
        }
      ]
    },
    {
      "cell_type": "markdown",
      "metadata": {
        "id": "myvt7u5DybwX"
      },
      "source": [
        "We can see that the values of survival for 3 months after the person has survived till age 60 agree for most distributions and is around 0.99. \n",
        "\n",
        "We see poor fitting for exponential and pareto distributions and we shall not use them for any future analysis."
      ]
    }
  ]
}