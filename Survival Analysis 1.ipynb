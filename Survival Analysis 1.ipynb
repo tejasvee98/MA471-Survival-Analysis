{
  "nbformat": 4,
  "nbformat_minor": 0,
  "metadata": {
    "kernelspec": {
      "name": "Python 3.8.5 32-bit",
      "display_name": "Python 3.8.5 32-bit",
      "metadata": {
        "interpreter": {
          "hash": "e3b4fb4671bf1b746205191bba2d4597e78dd9338b359fd1ad0151f7cf0a9919"
        }
      }
    },
    "language_info": {
      "codemirror_mode": {
        "name": "ipython",
        "version": 3
      },
      "file_extension": ".py",
      "mimetype": "text/x-python",
      "name": "python",
      "nbconvert_exporter": "python",
      "pygments_lexer": "ipython3",
      "version": "3.8.5-final"
    },
    "colab": {
      "name": "Notebook1.ipynb",
      "provenance": [],
      "collapsed_sections": [],
      "toc_visible": true,
      "include_colab_link": true
    }
  },
  "cells": [
    {
      "cell_type": "markdown",
      "metadata": {
        "id": "view-in-github",
        "colab_type": "text"
      },
      "source": [
        "<a href=\"https://colab.research.google.com/github/tejasvee98/MA471-Survival-Analysis/blob/main/Survival%20Analysis%201.ipynb\" target=\"_parent\"><img src=\"https://colab.research.google.com/assets/colab-badge.svg\" alt=\"Open In Colab\"/></a>"
      ]
    },
    {
      "cell_type": "markdown",
      "metadata": {
        "id": "EPPQbKV21sTx"
      },
      "source": [
        "# Fitting Mortality Data to various Distributions"
      ]
    },
    {
      "cell_type": "code",
      "metadata": {
        "id": "dfv264FR1sTz"
      },
      "source": [
        "import pandas as pd\n",
        "import numpy as np\n",
        "import matplotlib.pyplot as plt\n",
        "from scipy.optimize import curve_fit"
      ],
      "execution_count": 1,
      "outputs": []
    },
    {
      "cell_type": "code",
      "metadata": {
        "id": "JM5IRZiw1sT3"
      },
      "source": [
        "#Importing Data\n",
        "url=''\n",
        "df = pd.read_csv(url)\n",
        "age=df['Age']\n",
        "age=age/100\n",
        "S=1-df['Mortality rate']"
      ],
      "execution_count": 9,
      "outputs": []
    },
    {
      "cell_type": "markdown",
      "metadata": {
        "id": "mDFwPSu51sT3"
      },
      "source": [
        "X is the Random Variable for age at death. It's CDF is F,pdf f and Survival Function S(=1-F). (x) symbolizes an individual aged x and T(x) denotes the future lifetime of (x) at age x.<br>The survival function of T(x) is written as - \n",
        "$P_x(t)=P(X > x + t | X > x)=\\frac{S(x+t)}{S(x)} $<br>\n",
        "$P_x(t)$ gives the survival probability that (x) survives for more than t years<br>\n",
        "$Q_x(t)=1-P_x(t)$ gives the distribution function of T(x) and represents the probability that (x) does not survive beyond age t.<br>\n",
        "The force of mortality is an important and fundamental concept in modelling future lifetime and is defined as <br>\n",
        "$\\mu_x(t)= lim_{dt\\to0^{+}}\\frac{1}{dt}P[t<T(x)\\leq t + dt|T(x)>t]=\\frac{f(x+t)}{S(x+t)}$\n"
      ]
    },
    {
      "cell_type": "markdown",
      "metadata": {
        "id": "ob704H6r1sT6"
      },
      "source": [
        "### We had the mortality rate data through which we found CDF F and Survival Function S data points. We fit the values of S to different distributions to get $P_x(t)$ curve to get survival Function. Then we can answer what's the probability of Prof Arabin surviving three more months, considering he survived till age 60."
      ]
    },
    {
      "cell_type": "code",
      "metadata": {
        "id": "Kzu-3ZVn1sT9"
      },
      "source": [
        "def results(func,popt,cov):\n",
        "    x=0.60\n",
        "    t1=0.0025\n",
        "    print(\"Probility of surviving the next three months given Surivival till Age 60 =\",func(x, *popt,t=t1))\n",
        "    sigma = np.sqrt(np.diag(cov)) \n",
        "    print(\"standard deviation errors on the parameters\")\n",
        "    print(sigma)"
      ],
      "execution_count": null,
      "outputs": []
    },
    {
      "cell_type": "code",
      "metadata": {
        "id": "wuKJHwu71sUA"
      },
      "source": [
        "def fit_curve(age,S,func,initial_values,bounds):\n",
        "    plt.plot(age, S, 'b-', label='data')\n",
        "    popt, pcov = curve_fit(func, age, S, p0 = initial_values, bounds=bounds)\n",
        "    plt.plot(age, func(age, *popt), 'g--')\n",
        "    return popt,pcov"
      ],
      "execution_count": null,
      "outputs": []
    },
    {
      "cell_type": "markdown",
      "metadata": {
        "id": "b06e6KJ7Dtq8"
      },
      "source": [
        "**Confidence Intervals**\n",
        "\n",
        "A confidence interval is a type of estimate computed from the statistics of the observed data. This proposes a range of plausible values for an unknown parameter. The interval has an associated confidence level that the true parameter is in the proposed range. The confidence level represents the frequency  of possible confidence intervals that contain the true value of the unknown  parameter. In other words, if confidence intervals are constructed using a given confidence level from an infinite number of independent sample statistics, the proportion of those intervals that contain the true value of the parameter will be equal to the confidence level."
      ]
    },
    {
      "cell_type": "markdown",
      "metadata": {
        "id": "TuaqVb4h68Cb"
      },
      "source": [
        "**Parametric Bootstrapping To Compute Confidence Intervals of Fitted Parameters**\n",
        "\n",
        "$θ$ is the vector of parameters whose values we wish to find along with the confidence intervals. Parametric bootstrapping is used to achieve this. Steps involved in Parametric Bootstrapping:\n",
        "\n",
        "1. Find $\\widehat{θ}$ that estimates $θ$.\n",
        "2. Bootstrap samples are drawn from F($\\widehat{θ}$).\n",
        "3. For each bootstrap sample $x_{1}^{*}$, . . . , $x_{n}^{*}$\n",
        "we compute $θ_{temp}$.\n",
        "4. $θ_{temp}$ is appended to the matrix $\\widehat{θ}^{*}$ whose rows store values of parameters derived from each sample.\n",
        "5. After calculation of $\\widehat{θ}^{*}$ is complete, the bootstrap difference $δ^{*}$ = $\\widehat{θ}^{*}$ − $\\widehat{θ}$ is calculated.\n",
        "4. The bootstrap principle says that the distribution of $δ^{*}$ approximates the distribution of $δ$ = $\\widehat{θ}$ − $θ$. We use the bootstrap differences to make a bootstrap confidence interval for $θ$."
      ]
    },
    {
      "cell_type": "code",
      "metadata": {
        "id": "_FaWWzz81sT6"
      },
      "source": [
        "def getConfidenceIntervals(func, thetaHat, p0Val, boundsVal):\n",
        "    #Step 1 is already done using curve fit by calling the function \"results\". \n",
        "    #thetaHat value is made available to this function as an argument.\n",
        "    n = age.size\n",
        "    numOfSamples=n\n",
        "    thetaStar = np.zeros(shape=(numOfSamples,thetaHat.size))\n",
        "    for i in range(numOfSamples):\n",
        "        #Step 2 involves generating random values for xData to be fed to Curve Fit, \n",
        "        #yData is calculated by finding the function value at xData and thetaHat\n",
        "        #Hence, (xData, yData) are samples drawn from F(thetaHat)\n",
        "        sample=np.random.randint(0,n-1,n)\n",
        "        sample=0.14 + 0.01*sample\n",
        "        #Step 3, thetaTemp is computed using curve fit on (xData, yData) sampled from F(thetaHat)\n",
        "        thetaTemp, pcov= curve_fit(func, sample, func(sample, *thetaHat), p0 = p0Val, bounds= boundsVal) \n",
        "        #Step 4\n",
        "        thetaStar[ i, :] = thetaTemp\n",
        "    #Step 5 \n",
        "    deltaStar = thetaStar - thetaHat \n",
        "    #Step 6, Finding 90% confidence intervals for parameters\n",
        "    q1=np.quantile(deltaStar,0.05,0)\n",
        "    q2=np.quantile(deltaStar,0.95,0)\n",
        "    for i in range(thetaHat.size):\n",
        "        print(\"[\", thetaHat[i]-q2[i], \",\", thetaHat[i]-q1[i], \"]\")"
      ],
      "execution_count": null,
      "outputs": []
    },
    {
      "cell_type": "markdown",
      "metadata": {
        "id": "djp0_EOX1sUD"
      },
      "source": [
        "## Exponential Distribution\n",
        "$X \\sim exp(\\lambda)$<br>\n",
        "$P_x(t) \\sim e^{-\\lambda t}$<br>\n",
        "$\\mu_x(t) \\sim \\lambda$\n",
        "\n",
        "Here, the probability of survival is independent of initial age, and only depends on the variable t"
      ]
    },
    {
      "cell_type": "code",
      "metadata": {
        "tags": [],
        "id": "0sIBYizL1sUE"
      },
      "source": [
        "def exp_survival(age,lam,t=0.01):\n",
        "    return np.exp(-lam*t)"
      ],
      "execution_count": null,
      "outputs": []
    },
    {
      "cell_type": "code",
      "metadata": {
        "scrolled": true,
        "tags": [],
        "id": "R96NgGoq1sUH",
        "outputId": "a61d7ef6-e89a-4fb7-dcfa-e6521fce535f",
        "colab": {
          "base_uri": "https://localhost:8080/",
          "height": 282
        }
      },
      "source": [
        "plt.plot(age, S, 'b-', label='data')\n",
        "popt, pcov = curve_fit(exp_survival, age, S, p0 = 1, bounds=(0,float(\"inf\")))\n",
        "plt.plot(age, exp_survival(age, *popt)*np.ones(86), 'g--')"
      ],
      "execution_count": null,
      "outputs": [
        {
          "output_type": "execute_result",
          "data": {
            "text/plain": [
              "[<matplotlib.lines.Line2D at 0x7f36bcb34470>]"
            ]
          },
          "metadata": {
            "tags": []
          },
          "execution_count": 39
        },
        {
          "output_type": "display_data",
          "data": {
            "image/png": "[encoded data removed]",
            "text/plain": [
              "<Figure size 432x288 with 1 Axes>"
            ]
          },
          "metadata": {
            "tags": [],
            "needs_background": "light"
          }
        }
      ]
    },
    {
      "cell_type": "code",
      "metadata": {
        "tags": [],
        "id": "9iklrhEz1sUK",
        "outputId": "2d765d4b-b64f-41a3-ee2d-528d37df2118",
        "colab": {
          "base_uri": "https://localhost:8080/",
          "height": 154
        }
      },
      "source": [
        "results(exp_survival,popt,pcov)\n",
        "print(\"Confidence intervals: \")\n",
        "getConfidenceIntervals(exp_survival, popt, 1, (0,float(\"inf\")))"
      ],
      "execution_count": null,
      "outputs": [
        {
          "output_type": "stream",
          "text": [
            "Probility of surviving the next three months given Surivival till Age 60 = 0.9833741854698006\n",
            "standard deviation errors on the parameters\n",
            "[1.17855203]\n",
            "Confidence intervals: \n"
          ],
          "name": "stdout"
        },
        {
          "output_type": "stream",
          "text": [
            "/usr/local/lib/python3.6/dist-packages/scipy/optimize/minpack.py:808: OptimizeWarning: Covariance of the parameters could not be estimated\n",
            "  category=OptimizeWarning)\n"
          ],
          "name": "stderr"
        },
        {
          "output_type": "stream",
          "text": [
            "[ 6.706236436653995 , 6.706236436653995 ]\n"
          ],
          "name": "stdout"
        }
      ]
    },
    {
      "cell_type": "markdown",
      "metadata": {
        "id": "hJVTS-tB1sUM"
      },
      "source": [
        "## Weibull Distribution \n",
        "\n",
        "$\\large{X \\sim Weibull(\\alpha,\\lambda)\\ (\\alpha>0 \\ and \\ \\lambda>0)}$<br>\n",
        "$\\large{P_x(t) \\sim \\frac{e^{-(\\lambda(x+t))^\\alpha}}{e^{-(\\lambda x)^\\alpha}}}$<br>\n",
        "$\\large{\\mu_x(t) \\sim \\alpha \\lambda^{\\alpha}(x+t)^{\\alpha -1}}$\n",
        "\n",
        "\n"
      ]
    },
    {
      "cell_type": "code",
      "metadata": {
        "id": "uBljj6Vy1sUN"
      },
      "source": [
        "def weibull_survival(age,alpha,lam,t=0.01):\n",
        "    return np.exp(-pow((lam*(age+t)),alpha))/np.exp(-pow((lam*(age)),alpha))"
      ],
      "execution_count": null,
      "outputs": []
    },
    {
      "cell_type": "code",
      "metadata": {
        "tags": [],
        "id": "W6os0I3L1sUP",
        "outputId": "7a30c489-e4f0-48a9-f0d1-c1acd654dc39",
        "colab": {
          "base_uri": "https://localhost:8080/",
          "height": 265
        }
      },
      "source": [
        "popt,pcov=fit_curve(age,S,weibull_survival,(1,1),((0,0),(float(\"inf\"),float(\"inf\"))))"
      ],
      "execution_count": null,
      "outputs": [
        {
          "output_type": "display_data",
          "data": {
            "image/png": "[encoded data removed]",
            "text/plain": [
              "<Figure size 432x288 with 1 Axes>"
            ]
          },
          "metadata": {
            "tags": [],
            "needs_background": "light"
          }
        }
      ]
    },
    {
      "cell_type": "code",
      "metadata": {
        "tags": [],
        "id": "eRBqpmoJ1sUS",
        "outputId": "c97c7274-5257-490d-92f2-f0263eacc7d1",
        "colab": {
          "base_uri": "https://localhost:8080/",
          "height": 118
        }
      },
      "source": [
        "results(weibull_survival,popt,pcov)\n",
        "print(\"Confidence intervals: \")\n",
        "getConfidenceIntervals(weibull_survival, popt, (1,1),((0,0),(float(\"inf\"),float(\"inf\"))))"
      ],
      "execution_count": null,
      "outputs": [
        {
          "output_type": "stream",
          "text": [
            "Probility of surviving the next three months given Surivival till Age 60 = 0.9965424643036773\n",
            "standard deviation errors on the parameters\n",
            "[0.04403948 0.00190915]\n",
            "Confidence intervals: \n",
            "[ 8.108163637499246 , 8.108163700340674 ]\n",
            "[ 1.2561893560310664 , 1.2561893586938178 ]\n"
          ],
          "name": "stdout"
        }
      ]
    },
    {
      "cell_type": "markdown",
      "metadata": {
        "id": "IFyBZinn1sUU"
      },
      "source": [
        "## Pareto Distribution\n",
        "$ \\large{X \\sim Pareto(\\theta) \\ (\\theta > 0)}$<br>\n",
        "$\\large{P_x(t) = \\frac{x^{\\theta}}{(x+t)^{\\theta}}}$<br>\n",
        "$\\large{\\mu_x(t) = \\frac{\\theta}{x+t}}$"
      ]
    },
    {
      "cell_type": "code",
      "metadata": {
        "id": "LTWWG1BS1sUV"
      },
      "source": [
        "def pareto_survival(age,theta,t=0.01):\n",
        "    return pow(age,theta)/pow((age+t),theta)"
      ],
      "execution_count": null,
      "outputs": []
    },
    {
      "cell_type": "code",
      "metadata": {
        "tags": [],
        "id": "OfH1XTPs1sUX",
        "outputId": "b891d656-2d76-453a-ceda-dd6937679760",
        "colab": {
          "base_uri": "https://localhost:8080/",
          "height": 265
        }
      },
      "source": [
        "popt,pcov=fit_curve(age,S,pareto_survival,7,((0),(float(\"inf\"))))"
      ],
      "execution_count": null,
      "outputs": [
        {
          "output_type": "display_data",
          "data": {
            "image/png": "[encoded data removed]",
            "text/plain": [
              "<Figure size 432x288 with 1 Axes>"
            ]
          },
          "metadata": {
            "tags": [],
            "needs_background": "light"
          }
        }
      ]
    },
    {
      "cell_type": "code",
      "metadata": {
        "tags": [],
        "id": "vkNLdCuS1sUa",
        "outputId": "b16398d7-ae0a-4037-f51d-293d9e29cf03",
        "colab": {
          "base_uri": "https://localhost:8080/",
          "height": 101
        }
      },
      "source": [
        "results(pareto_survival,popt,pcov)\n",
        "print(\"Confidence intervals: \")\n",
        "getConfidenceIntervals(pareto_survival, popt, 7,((0),(float(\"inf\"))))"
      ],
      "execution_count": null,
      "outputs": [
        {
          "output_type": "stream",
          "text": [
            "Probility of surviving the next three months given Surivival till Age 60 = 0.9953752689484279\n",
            "standard deviation errors on the parameters\n",
            "[0.49709074]\n",
            "Confidence intervals: \n",
            "[ 1.1148260924463331 , 1.1148260924565783 ]\n"
          ],
          "name": "stdout"
        }
      ]
    },
    {
      "cell_type": "markdown",
      "metadata": {
        "id": "OlgfUOz21sUc"
      },
      "source": [
        "## Makeham Gompertz\n",
        "$\\large{X \\sim Gompertz(\\alpha,\\beta,\\lambda)}$<br>\n",
        "$\\large{S_x(t)=e^{-\\alpha t- \\beta \\lambda^{x} (\\frac{\\lambda^{t}-1}{\\log \\lambda}) }}$<br>\n",
        "$\\large{\\mu_x(t)=\\alpha + \\beta \\lambda^{x+t}}$"
      ]
    },
    {
      "cell_type": "code",
      "metadata": {
        "id": "wduyS6f31sUd"
      },
      "source": [
        "def make_gomp_survival(x,A,B,lam,t=0.01):\n",
        "    return np.exp(-(t*A +B*pow(lam,x)*(pow(lam,t)-1)/np.log(lam)))"
      ],
      "execution_count": null,
      "outputs": []
    },
    {
      "cell_type": "code",
      "metadata": {
        "tags": [],
        "id": "QyETrcHf1sUf",
        "outputId": "a6326973-6a33-4faa-ccb1-64b8c5e62513",
        "colab": {
          "base_uri": "https://localhost:8080/",
          "height": 265
        }
      },
      "source": [
        "popt,pcov=fit_curve(age,S,make_gomp_survival,[1,0.5,1],bounds=((0,0,1), (100, 1., 10000)))"
      ],
      "execution_count": null,
      "outputs": [
        {
          "output_type": "display_data",
          "data": {
            "image/png": "[encoded data removed]",
            "text/plain": [
              "<Figure size 432x288 with 1 Axes>"
            ]
          },
          "metadata": {
            "tags": [],
            "needs_background": "light"
          }
        }
      ]
    },
    {
      "cell_type": "code",
      "metadata": {
        "tags": [],
        "id": "GgCHYBDI1sUh",
        "outputId": "16851454-af32-4fcc-9b15-ee422dd47441",
        "colab": {
          "base_uri": "https://localhost:8080/",
          "height": 134
        }
      },
      "source": [
        "results(make_gomp_survival,popt,pcov)\n",
        "print(\"Confidence intervals: \")\n",
        "getConfidenceIntervals(make_gomp_survival, popt, [1,0.5,1],((0,0,1), (100, 1., 10000)))"
      ],
      "execution_count": null,
      "outputs": [
        {
          "output_type": "stream",
          "text": [
            "Probility of surviving the next three months given Surivival till Age 60 = 0.9950095403766779\n",
            "standard deviation errors on the parameters\n",
            "[1.09526144e-01 1.67717604e-03 4.86648766e+02]\n",
            "Confidence intervals: \n",
            "[ -6.30504591668043 , -6.242926077583355e-11 ]\n",
            "[ -0.49893491503985254 , 0.013978432051657472 ]\n",
            "[ 3850.9443248707857 , 7700.986536847533 ]\n"
          ],
          "name": "stdout"
        }
      ]
    },
    {
      "cell_type": "markdown",
      "metadata": {
        "id": "XdtAyQ5o1sUk"
      },
      "source": [
        "## Burr Distribution\n",
        "$\\large{X \\sim Burr(\\gamma,\\theta)}$<br>\n",
        "$\\large{S_x(t)=\\frac{(1+x^{\\gamma})^{\\theta}}{(1+(x+t)^{\\gamma})^{\\theta}}}$<br>\n",
        "$\\large{\\mu_x(t)=\\frac{\\gamma \\theta (1+x^{\\gamma})^{\\theta}(x+t)^{\\gamma -1}}{1+(x+t)^{\\gamma}}}$"
      ]
    },
    {
      "cell_type": "code",
      "metadata": {
        "id": "QD3vCT1l1sUl"
      },
      "source": [
        "def burr_survival(x,gamma,theta,t=0.01):\n",
        "    return pow(1+pow(x,gamma),theta)/pow(1+pow(x+t,gamma),theta)"
      ],
      "execution_count": null,
      "outputs": []
    },
    {
      "cell_type": "code",
      "metadata": {
        "tags": [],
        "id": "ckQUGK0-1sUn",
        "outputId": "568b2d59-abb6-4d91-b07f-0b4d5ec6e9a8"
      },
      "source": [
        "popt,pcov=fit_curve(age,S,burr_survival,(0.1,0.1),((0,0),(float('inf'),float('inf'))))"
      ],
      "execution_count": null,
      "outputs": [
        {
          "output_type": "display_data",
          "data": {
            "text/plain": [
              "<Figure size 432x288 with 1 Axes>"
            ],
            "image/svg+xml": "<?xml version=\"1.0\" encoding=\"utf-8\" standalone=\"no\"?>\r\n<!DOCTYPE svg PUBLIC \"-//W3C//DTD SVG 1.1//EN\"\r\n  \"http://www.w3.org/Graphics/SVG/1.1/DTD/svg11.dtd\">\r\n<!-- Created with matplotlib (https://matplotlib.org/) -->\r\n<svg height=\"248.518125pt\" version=\"1.1\" viewBox=\"0 0 378.465625 248.518125\" width=\"378.465625pt\" xmlns=\"http://www.w3.org/2000/svg\" xmlns:xlink=\"http://www.w3.org/1999/xlink\">\r\n <metadata>\r\n  <rdf:RDF xmlns:cc=\"http://creativecommons.org/ns#\" xmlns:dc=\"http://purl.org/dc/elements/1.1/\" xmlns:rdf=\"http://www.w3.org/1999/02/22-rdf-syntax-ns#\">\r\n   <cc:Work>\r\n    <dc:type rdf:resource=\"http://purl.org/dc/dcmitype/StillImage\"/>\r\n    <dc:date>2020-10-10T14:04:29.518955</dc:date>\r\n    <dc:format>image/svg+xml</dc:format>\r\n    <dc:creator>\r\n     <cc:Agent>\r\n      <dc:title>Matplotlib v3.3.2, https://matplotlib.org/</dc:title>\r\n     </cc:Agent>\r\n    </dc:creator>\r\n   </cc:Work>\r\n  </rdf:RDF>\r\n </metadata>\r\n <defs>\r\n  <style type=\"text/css\">*{stroke-linecap:butt;stroke-linejoin:round;}</style>\r\n </defs>\r\n <g id=\"figure_1\">\r\n  <g id=\"patch_1\">\r\n   <path d=\"M 0 248.518125 \r\nL 378.465625 248.518125 \r\nL 378.465625 0 \r\nL 0 0 \r\nz\r\n\" style=\"fill:none;\"/>\r\n  </g>\r\n  <g id=\"axes_1\">\r\n   <g id=\"patch_2\">\r\n    <path d=\"M 36.465625 224.64 \r\nL 371.265625 224.64 \r\nL 371.265625 7.2 \r\nL 36.465625 7.2 \r\nz\r\n\" style=\"fill:#ffffff;\"/>\r\n   </g>\r\n   <g id=\"matplotlib.axis_1\">\r\n    <g id=\"xtick_1\">\r\n     <g id=\"line2d_1\">\r\n      <defs>\r\n       <path d=\"M 0 0 \r\nL 0 3.5 \r\n\" id=\"m704e5baba1\" style=\"stroke:#000000;stroke-width:0.8;\"/>\r\n      </defs>\r\n      <g>\r\n       <use style=\"stroke:#000000;stroke-width:0.8;\" x=\"73.168299\" xlink:href=\"#m704e5baba1\" y=\"224.64\"/>\r\n      </g>\r\n     </g>\r\n     <g id=\"text_1\">\r\n      <!-- 0.2 -->\r\n      <g transform=\"translate(65.216736 239.238437)scale(0.1 -0.1)\">\r\n       <defs>\r\n        <path d=\"M 31.78125 66.40625 \r\nQ 24.171875 66.40625 20.328125 58.90625 \r\nQ 16.5 51.421875 16.5 36.375 \r\nQ 16.5 21.390625 20.328125 13.890625 \r\nQ 24.171875 6.390625 31.78125 6.390625 \r\nQ 39.453125 6.390625 43.28125 13.890625 \r\nQ 47.125 21.390625 47.125 36.375 \r\nQ 47.125 51.421875 43.28125 58.90625 \r\nQ 39.453125 66.40625 31.78125 66.40625 \r\nz\r\nM 31.78125 74.21875 \r\nQ 44.046875 74.21875 50.515625 64.515625 \r\nQ 56.984375 54.828125 56.984375 36.375 \r\nQ 56.984375 17.96875 50.515625 8.265625 \r\nQ 44.046875 -1.421875 31.78125 -1.421875 \r\nQ 19.53125 -1.421875 13.0625 8.265625 \r\nQ 6.59375 17.96875 6.59375 36.375 \r\nQ 6.59375 54.828125 13.0625 64.515625 \r\nQ 19.53125 74.21875 31.78125 74.21875 \r\nz\r\n\" id=\"DejaVuSans-48\"/>\r\n        <path d=\"M 10.6875 12.40625 \r\nL 21 12.40625 \r\nL 21 0 \r\nL 10.6875 0 \r\nz\r\n\" id=\"DejaVuSans-46\"/>\r\n        <path d=\"M 19.1875 8.296875 \r\nL 53.609375 8.296875 \r\nL 53.609375 0 \r\nL 7.328125 0 \r\nL 7.328125 8.296875 \r\nQ 12.9375 14.109375 22.625 23.890625 \r\nQ 32.328125 33.6875 34.8125 36.53125 \r\nQ 39.546875 41.84375 41.421875 45.53125 \r\nQ 43.3125 49.21875 43.3125 52.78125 \r\nQ 43.3125 58.59375 39.234375 62.25 \r\nQ 35.15625 65.921875 28.609375 65.921875 \r\nQ 23.96875 65.921875 18.8125 64.3125 \r\nQ 13.671875 62.703125 7.8125 59.421875 \r\nL 7.8125 69.390625 \r\nQ 13.765625 71.78125 18.9375 73 \r\nQ 24.125 74.21875 28.421875 74.21875 \r\nQ 39.75 74.21875 46.484375 68.546875 \r\nQ 53.21875 62.890625 53.21875 53.421875 \r\nQ 53.21875 48.921875 51.53125 44.890625 \r\nQ 49.859375 40.875 45.40625 35.40625 \r\nQ 44.1875 33.984375 37.640625 27.21875 \r\nQ 31.109375 20.453125 19.1875 8.296875 \r\nz\r\n\" id=\"DejaVuSans-50\"/>\r\n       </defs>\r\n       <use xlink:href=\"#DejaVuSans-48\"/>\r\n       <use x=\"63.623047\" xlink:href=\"#DejaVuSans-46\"/>\r\n       <use x=\"95.410156\" xlink:href=\"#DejaVuSans-50\"/>\r\n      </g>\r\n     </g>\r\n    </g>\r\n    <g id=\"xtick_2\">\r\n     <g id=\"line2d_2\">\r\n      <g>\r\n       <use style=\"stroke:#000000;stroke-width:0.8;\" x=\"144.783272\" xlink:href=\"#m704e5baba1\" y=\"224.64\"/>\r\n      </g>\r\n     </g>\r\n     <g id=\"text_2\">\r\n      <!-- 0.4 -->\r\n      <g transform=\"translate(136.83171 239.238437)scale(0.1 -0.1)\">\r\n       <defs>\r\n        <path d=\"M 37.796875 64.3125 \r\nL 12.890625 25.390625 \r\nL 37.796875 25.390625 \r\nz\r\nM 35.203125 72.90625 \r\nL 47.609375 72.90625 \r\nL 47.609375 25.390625 \r\nL 58.015625 25.390625 \r\nL 58.015625 17.1875 \r\nL 47.609375 17.1875 \r\nL 47.609375 0 \r\nL 37.796875 0 \r\nL 37.796875 17.1875 \r\nL 4.890625 17.1875 \r\nL 4.890625 26.703125 \r\nz\r\n\" id=\"DejaVuSans-52\"/>\r\n       </defs>\r\n       <use xlink:href=\"#DejaVuSans-48\"/>\r\n       <use x=\"63.623047\" xlink:href=\"#DejaVuSans-46\"/>\r\n       <use x=\"95.410156\" xlink:href=\"#DejaVuSans-52\"/>\r\n      </g>\r\n     </g>\r\n    </g>\r\n    <g id=\"xtick_3\">\r\n     <g id=\"line2d_3\">\r\n      <g>\r\n       <use style=\"stroke:#000000;stroke-width:0.8;\" x=\"216.398245\" xlink:href=\"#m704e5baba1\" y=\"224.64\"/>\r\n      </g>\r\n     </g>\r\n     <g id=\"text_3\">\r\n      <!-- 0.6 -->\r\n      <g transform=\"translate(208.446683 239.238437)scale(0.1 -0.1)\">\r\n       <defs>\r\n        <path d=\"M 33.015625 40.375 \r\nQ 26.375 40.375 22.484375 35.828125 \r\nQ 18.609375 31.296875 18.609375 23.390625 \r\nQ 18.609375 15.53125 22.484375 10.953125 \r\nQ 26.375 6.390625 33.015625 6.390625 \r\nQ 39.65625 6.390625 43.53125 10.953125 \r\nQ 47.40625 15.53125 47.40625 23.390625 \r\nQ 47.40625 31.296875 43.53125 35.828125 \r\nQ 39.65625 40.375 33.015625 40.375 \r\nz\r\nM 52.59375 71.296875 \r\nL 52.59375 62.3125 \r\nQ 48.875 64.0625 45.09375 64.984375 \r\nQ 41.3125 65.921875 37.59375 65.921875 \r\nQ 27.828125 65.921875 22.671875 59.328125 \r\nQ 17.53125 52.734375 16.796875 39.40625 \r\nQ 19.671875 43.65625 24.015625 45.921875 \r\nQ 28.375 48.1875 33.59375 48.1875 \r\nQ 44.578125 48.1875 50.953125 41.515625 \r\nQ 57.328125 34.859375 57.328125 23.390625 \r\nQ 57.328125 12.15625 50.6875 5.359375 \r\nQ 44.046875 -1.421875 33.015625 -1.421875 \r\nQ 20.359375 -1.421875 13.671875 8.265625 \r\nQ 6.984375 17.96875 6.984375 36.375 \r\nQ 6.984375 53.65625 15.1875 63.9375 \r\nQ 23.390625 74.21875 37.203125 74.21875 \r\nQ 40.921875 74.21875 44.703125 73.484375 \r\nQ 48.484375 72.75 52.59375 71.296875 \r\nz\r\n\" id=\"DejaVuSans-54\"/>\r\n       </defs>\r\n       <use xlink:href=\"#DejaVuSans-48\"/>\r\n       <use x=\"63.623047\" xlink:href=\"#DejaVuSans-46\"/>\r\n       <use x=\"95.410156\" xlink:href=\"#DejaVuSans-54\"/>\r\n      </g>\r\n     </g>\r\n    </g>\r\n    <g id=\"xtick_4\">\r\n     <g id=\"line2d_4\">\r\n      <g>\r\n       <use style=\"stroke:#000000;stroke-width:0.8;\" x=\"288.013219\" xlink:href=\"#m704e5baba1\" y=\"224.64\"/>\r\n      </g>\r\n     </g>\r\n     <g id=\"text_4\">\r\n      <!-- 0.8 -->\r\n      <g transform=\"translate(280.061656 239.238437)scale(0.1 -0.1)\">\r\n       <defs>\r\n        <path d=\"M 31.78125 34.625 \r\nQ 24.75 34.625 20.71875 30.859375 \r\nQ 16.703125 27.09375 16.703125 20.515625 \r\nQ 16.703125 13.921875 20.71875 10.15625 \r\nQ 24.75 6.390625 31.78125 6.390625 \r\nQ 38.8125 6.390625 42.859375 10.171875 \r\nQ 46.921875 13.96875 46.921875 20.515625 \r\nQ 46.921875 27.09375 42.890625 30.859375 \r\nQ 38.875 34.625 31.78125 34.625 \r\nz\r\nM 21.921875 38.8125 \r\nQ 15.578125 40.375 12.03125 44.71875 \r\nQ 8.5 49.078125 8.5 55.328125 \r\nQ 8.5 64.0625 14.71875 69.140625 \r\nQ 20.953125 74.21875 31.78125 74.21875 \r\nQ 42.671875 74.21875 48.875 69.140625 \r\nQ 55.078125 64.0625 55.078125 55.328125 \r\nQ 55.078125 49.078125 51.53125 44.71875 \r\nQ 48 40.375 41.703125 38.8125 \r\nQ 48.828125 37.15625 52.796875 32.3125 \r\nQ 56.78125 27.484375 56.78125 20.515625 \r\nQ 56.78125 9.90625 50.3125 4.234375 \r\nQ 43.84375 -1.421875 31.78125 -1.421875 \r\nQ 19.734375 -1.421875 13.25 4.234375 \r\nQ 6.78125 9.90625 6.78125 20.515625 \r\nQ 6.78125 27.484375 10.78125 32.3125 \r\nQ 14.796875 37.15625 21.921875 38.8125 \r\nz\r\nM 18.3125 54.390625 \r\nQ 18.3125 48.734375 21.84375 45.5625 \r\nQ 25.390625 42.390625 31.78125 42.390625 \r\nQ 38.140625 42.390625 41.71875 45.5625 \r\nQ 45.3125 48.734375 45.3125 54.390625 \r\nQ 45.3125 60.0625 41.71875 63.234375 \r\nQ 38.140625 66.40625 31.78125 66.40625 \r\nQ 25.390625 66.40625 21.84375 63.234375 \r\nQ 18.3125 60.0625 18.3125 54.390625 \r\nz\r\n\" id=\"DejaVuSans-56\"/>\r\n       </defs>\r\n       <use xlink:href=\"#DejaVuSans-48\"/>\r\n       <use x=\"63.623047\" xlink:href=\"#DejaVuSans-46\"/>\r\n       <use x=\"95.410156\" xlink:href=\"#DejaVuSans-56\"/>\r\n      </g>\r\n     </g>\r\n    </g>\r\n    <g id=\"xtick_5\">\r\n     <g id=\"line2d_5\">\r\n      <g>\r\n       <use style=\"stroke:#000000;stroke-width:0.8;\" x=\"359.628192\" xlink:href=\"#m704e5baba1\" y=\"224.64\"/>\r\n      </g>\r\n     </g>\r\n     <g id=\"text_5\">\r\n      <!-- 1.0 -->\r\n      <g transform=\"translate(351.676629 239.238437)scale(0.1 -0.1)\">\r\n       <defs>\r\n        <path d=\"M 12.40625 8.296875 \r\nL 28.515625 8.296875 \r\nL 28.515625 63.921875 \r\nL 10.984375 60.40625 \r\nL 10.984375 69.390625 \r\nL 28.421875 72.90625 \r\nL 38.28125 72.90625 \r\nL 38.28125 8.296875 \r\nL 54.390625 8.296875 \r\nL 54.390625 0 \r\nL 12.40625 0 \r\nz\r\n\" id=\"DejaVuSans-49\"/>\r\n       </defs>\r\n       <use xlink:href=\"#DejaVuSans-49\"/>\r\n       <use x=\"63.623047\" xlink:href=\"#DejaVuSans-46\"/>\r\n       <use x=\"95.410156\" xlink:href=\"#DejaVuSans-48\"/>\r\n      </g>\r\n     </g>\r\n    </g>\r\n   </g>\r\n   <g id=\"matplotlib.axis_2\">\r\n    <g id=\"ytick_1\">\r\n     <g id=\"line2d_6\">\r\n      <defs>\r\n       <path d=\"M 0 0 \r\nL -3.5 0 \r\n\" id=\"mb174cbf08b\" style=\"stroke:#000000;stroke-width:0.8;\"/>\r\n      </defs>\r\n      <g>\r\n       <use style=\"stroke:#000000;stroke-width:0.8;\" x=\"36.465625\" xlink:href=\"#mb174cbf08b\" y=\"222.7592\"/>\r\n      </g>\r\n     </g>\r\n     <g id=\"text_6\">\r\n      <!-- 0.60 -->\r\n      <g transform=\"translate(7.2 226.558419)scale(0.1 -0.1)\">\r\n       <use xlink:href=\"#DejaVuSans-48\"/>\r\n       <use x=\"63.623047\" xlink:href=\"#DejaVuSans-46\"/>\r\n       <use x=\"95.410156\" xlink:href=\"#DejaVuSans-54\"/>\r\n       <use x=\"159.033203\" xlink:href=\"#DejaVuSans-48\"/>\r\n      </g>\r\n     </g>\r\n    </g>\r\n    <g id=\"ytick_2\">\r\n     <g id=\"line2d_7\">\r\n      <g>\r\n       <use style=\"stroke:#000000;stroke-width:0.8;\" x=\"36.465625\" xlink:href=\"#mb174cbf08b\" y=\"197.049754\"/>\r\n      </g>\r\n     </g>\r\n     <g id=\"text_7\">\r\n      <!-- 0.65 -->\r\n      <g transform=\"translate(7.2 200.848973)scale(0.1 -0.1)\">\r\n       <defs>\r\n        <path d=\"M 10.796875 72.90625 \r\nL 49.515625 72.90625 \r\nL 49.515625 64.59375 \r\nL 19.828125 64.59375 \r\nL 19.828125 46.734375 \r\nQ 21.96875 47.46875 24.109375 47.828125 \r\nQ 26.265625 48.1875 28.421875 48.1875 \r\nQ 40.625 48.1875 47.75 41.5 \r\nQ 54.890625 34.8125 54.890625 23.390625 \r\nQ 54.890625 11.625 47.5625 5.09375 \r\nQ 40.234375 -1.421875 26.90625 -1.421875 \r\nQ 22.3125 -1.421875 17.546875 -0.640625 \r\nQ 12.796875 0.140625 7.71875 1.703125 \r\nL 7.71875 11.625 \r\nQ 12.109375 9.234375 16.796875 8.0625 \r\nQ 21.484375 6.890625 26.703125 6.890625 \r\nQ 35.15625 6.890625 40.078125 11.328125 \r\nQ 45.015625 15.765625 45.015625 23.390625 \r\nQ 45.015625 31 40.078125 35.4375 \r\nQ 35.15625 39.890625 26.703125 39.890625 \r\nQ 22.75 39.890625 18.8125 39.015625 \r\nQ 14.890625 38.140625 10.796875 36.28125 \r\nz\r\n\" id=\"DejaVuSans-53\"/>\r\n       </defs>\r\n       <use xlink:href=\"#DejaVuSans-48\"/>\r\n       <use x=\"63.623047\" xlink:href=\"#DejaVuSans-46\"/>\r\n       <use x=\"95.410156\" xlink:href=\"#DejaVuSans-54\"/>\r\n       <use x=\"159.033203\" xlink:href=\"#DejaVuSans-53\"/>\r\n      </g>\r\n     </g>\r\n    </g>\r\n    <g id=\"ytick_3\">\r\n     <g id=\"line2d_8\">\r\n      <g>\r\n       <use style=\"stroke:#000000;stroke-width:0.8;\" x=\"36.465625\" xlink:href=\"#mb174cbf08b\" y=\"171.340308\"/>\r\n      </g>\r\n     </g>\r\n     <g id=\"text_8\">\r\n      <!-- 0.70 -->\r\n      <g transform=\"translate(7.2 175.139526)scale(0.1 -0.1)\">\r\n       <defs>\r\n        <path d=\"M 8.203125 72.90625 \r\nL 55.078125 72.90625 \r\nL 55.078125 68.703125 \r\nL 28.609375 0 \r\nL 18.3125 0 \r\nL 43.21875 64.59375 \r\nL 8.203125 64.59375 \r\nz\r\n\" id=\"DejaVuSans-55\"/>\r\n       </defs>\r\n       <use xlink:href=\"#DejaVuSans-48\"/>\r\n       <use x=\"63.623047\" xlink:href=\"#DejaVuSans-46\"/>\r\n       <use x=\"95.410156\" xlink:href=\"#DejaVuSans-55\"/>\r\n       <use x=\"159.033203\" xlink:href=\"#DejaVuSans-48\"/>\r\n      </g>\r\n     </g>\r\n    </g>\r\n    <g id=\"ytick_4\">\r\n     <g id=\"line2d_9\">\r\n      <g>\r\n       <use style=\"stroke:#000000;stroke-width:0.8;\" x=\"36.465625\" xlink:href=\"#mb174cbf08b\" y=\"145.630861\"/>\r\n      </g>\r\n     </g>\r\n     <g id=\"text_9\">\r\n      <!-- 0.75 -->\r\n      <g transform=\"translate(7.2 149.43008)scale(0.1 -0.1)\">\r\n       <use xlink:href=\"#DejaVuSans-48\"/>\r\n       <use x=\"63.623047\" xlink:href=\"#DejaVuSans-46\"/>\r\n       <use x=\"95.410156\" xlink:href=\"#DejaVuSans-55\"/>\r\n       <use x=\"159.033203\" xlink:href=\"#DejaVuSans-53\"/>\r\n      </g>\r\n     </g>\r\n    </g>\r\n    <g id=\"ytick_5\">\r\n     <g id=\"line2d_10\">\r\n      <g>\r\n       <use style=\"stroke:#000000;stroke-width:0.8;\" x=\"36.465625\" xlink:href=\"#mb174cbf08b\" y=\"119.921415\"/>\r\n      </g>\r\n     </g>\r\n     <g id=\"text_10\">\r\n      <!-- 0.80 -->\r\n      <g transform=\"translate(7.2 123.720634)scale(0.1 -0.1)\">\r\n       <use xlink:href=\"#DejaVuSans-48\"/>\r\n       <use x=\"63.623047\" xlink:href=\"#DejaVuSans-46\"/>\r\n       <use x=\"95.410156\" xlink:href=\"#DejaVuSans-56\"/>\r\n       <use x=\"159.033203\" xlink:href=\"#DejaVuSans-48\"/>\r\n      </g>\r\n     </g>\r\n    </g>\r\n    <g id=\"ytick_6\">\r\n     <g id=\"line2d_11\">\r\n      <g>\r\n       <use style=\"stroke:#000000;stroke-width:0.8;\" x=\"36.465625\" xlink:href=\"#mb174cbf08b\" y=\"94.211969\"/>\r\n      </g>\r\n     </g>\r\n     <g id=\"text_11\">\r\n      <!-- 0.85 -->\r\n      <g transform=\"translate(7.2 98.011188)scale(0.1 -0.1)\">\r\n       <use xlink:href=\"#DejaVuSans-48\"/>\r\n       <use x=\"63.623047\" xlink:href=\"#DejaVuSans-46\"/>\r\n       <use x=\"95.410156\" xlink:href=\"#DejaVuSans-56\"/>\r\n       <use x=\"159.033203\" xlink:href=\"#DejaVuSans-53\"/>\r\n      </g>\r\n     </g>\r\n    </g>\r\n    <g id=\"ytick_7\">\r\n     <g id=\"line2d_12\">\r\n      <g>\r\n       <use style=\"stroke:#000000;stroke-width:0.8;\" x=\"36.465625\" xlink:href=\"#mb174cbf08b\" y=\"68.502523\"/>\r\n      </g>\r\n     </g>\r\n     <g id=\"text_12\">\r\n      <!-- 0.90 -->\r\n      <g transform=\"translate(7.2 72.301742)scale(0.1 -0.1)\">\r\n       <defs>\r\n        <path d=\"M 10.984375 1.515625 \r\nL 10.984375 10.5 \r\nQ 14.703125 8.734375 18.5 7.8125 \r\nQ 22.3125 6.890625 25.984375 6.890625 \r\nQ 35.75 6.890625 40.890625 13.453125 \r\nQ 46.046875 20.015625 46.78125 33.40625 \r\nQ 43.953125 29.203125 39.59375 26.953125 \r\nQ 35.25 24.703125 29.984375 24.703125 \r\nQ 19.046875 24.703125 12.671875 31.3125 \r\nQ 6.296875 37.9375 6.296875 49.421875 \r\nQ 6.296875 60.640625 12.9375 67.421875 \r\nQ 19.578125 74.21875 30.609375 74.21875 \r\nQ 43.265625 74.21875 49.921875 64.515625 \r\nQ 56.59375 54.828125 56.59375 36.375 \r\nQ 56.59375 19.140625 48.40625 8.859375 \r\nQ 40.234375 -1.421875 26.421875 -1.421875 \r\nQ 22.703125 -1.421875 18.890625 -0.6875 \r\nQ 15.09375 0.046875 10.984375 1.515625 \r\nz\r\nM 30.609375 32.421875 \r\nQ 37.25 32.421875 41.125 36.953125 \r\nQ 45.015625 41.5 45.015625 49.421875 \r\nQ 45.015625 57.28125 41.125 61.84375 \r\nQ 37.25 66.40625 30.609375 66.40625 \r\nQ 23.96875 66.40625 20.09375 61.84375 \r\nQ 16.21875 57.28125 16.21875 49.421875 \r\nQ 16.21875 41.5 20.09375 36.953125 \r\nQ 23.96875 32.421875 30.609375 32.421875 \r\nz\r\n\" id=\"DejaVuSans-57\"/>\r\n       </defs>\r\n       <use xlink:href=\"#DejaVuSans-48\"/>\r\n       <use x=\"63.623047\" xlink:href=\"#DejaVuSans-46\"/>\r\n       <use x=\"95.410156\" xlink:href=\"#DejaVuSans-57\"/>\r\n       <use x=\"159.033203\" xlink:href=\"#DejaVuSans-48\"/>\r\n      </g>\r\n     </g>\r\n    </g>\r\n    <g id=\"ytick_8\">\r\n     <g id=\"line2d_13\">\r\n      <g>\r\n       <use style=\"stroke:#000000;stroke-width:0.8;\" x=\"36.465625\" xlink:href=\"#mb174cbf08b\" y=\"42.793077\"/>\r\n      </g>\r\n     </g>\r\n     <g id=\"text_13\">\r\n      <!-- 0.95 -->\r\n      <g transform=\"translate(7.2 46.592295)scale(0.1 -0.1)\">\r\n       <use xlink:href=\"#DejaVuSans-48\"/>\r\n       <use x=\"63.623047\" xlink:href=\"#DejaVuSans-46\"/>\r\n       <use x=\"95.410156\" xlink:href=\"#DejaVuSans-57\"/>\r\n       <use x=\"159.033203\" xlink:href=\"#DejaVuSans-53\"/>\r\n      </g>\r\n     </g>\r\n    </g>\r\n    <g id=\"ytick_9\">\r\n     <g id=\"line2d_14\">\r\n      <g>\r\n       <use style=\"stroke:#000000;stroke-width:0.8;\" x=\"36.465625\" xlink:href=\"#mb174cbf08b\" y=\"17.08363\"/>\r\n      </g>\r\n     </g>\r\n     <g id=\"text_14\">\r\n      <!-- 1.00 -->\r\n      <g transform=\"translate(7.2 20.882849)scale(0.1 -0.1)\">\r\n       <use xlink:href=\"#DejaVuSans-49\"/>\r\n       <use x=\"63.623047\" xlink:href=\"#DejaVuSans-46\"/>\r\n       <use x=\"95.410156\" xlink:href=\"#DejaVuSans-48\"/>\r\n       <use x=\"159.033203\" xlink:href=\"#DejaVuSans-48\"/>\r\n      </g>\r\n     </g>\r\n    </g>\r\n   </g>\r\n   <g id=\"line2d_15\">\r\n    <path clip-path=\"url(#p330b89edcb)\" d=\"M 51.683807 17.450247 \r\nL 55.264555 17.479556 \r\nL 58.845304 17.506808 \r\nL 62.426053 17.532517 \r\nL 66.006801 17.55617 \r\nL 69.58755 17.577766 \r\nL 73.168299 17.597305 \r\nL 76.749047 17.614788 \r\nL 80.329796 17.630213 \r\nL 83.910545 17.644096 \r\nL 87.491293 17.655923 \r\nL 91.072042 17.665692 \r\nL 94.652791 17.673405 \r\nL 98.233539 17.679575 \r\nL 101.814288 17.683175 \r\nL 105.395037 17.685231 \r\nL 108.975785 17.685231 \r\nL 112.556534 17.685746 \r\nL 116.137283 17.701171 \r\nL 119.718031 17.72431 \r\nL 123.29878 17.756189 \r\nL 126.879529 17.79681 \r\nL 130.460277 17.845658 \r\nL 134.041026 17.902733 \r\nL 137.621775 17.96855 \r\nL 141.202523 18.042593 \r\nL 144.783272 18.13926 \r\nL 148.364021 18.239013 \r\nL 151.944769 18.326939 \r\nL 155.525518 18.42155 \r\nL 159.106267 18.539813 \r\nL 162.687015 18.682758 \r\nL 166.267764 18.851412 \r\nL 169.848513 19.045775 \r\nL 173.429261 19.265334 \r\nL 177.01001 19.510088 \r\nL 180.590759 19.780037 \r\nL 184.171507 20.075696 \r\nL 187.752256 20.39655 \r\nL 191.333005 20.742599 \r\nL 194.913753 21.114357 \r\nL 198.494502 21.511311 \r\nL 202.075251 21.933974 \r\nL 205.655999 22.376691 \r\nL 209.236748 22.752563 \r\nL 212.817497 23.228702 \r\nL 216.398245 23.805622 \r\nL 219.978994 24.483323 \r\nL 223.559743 25.261291 \r\nL 227.140491 26.139526 \r\nL 230.72124 27.118541 \r\nL 234.301989 28.197824 \r\nL 237.882737 28.768059 \r\nL 241.463486 30.255608 \r\nL 245.044235 31.904098 \r\nL 248.624983 33.728954 \r\nL 252.205732 35.745603 \r\nL 255.786481 37.971527 \r\nL 259.367229 40.423694 \r\nL 262.947978 43.121643 \r\nL 266.528727 46.085942 \r\nL 270.109475 49.337673 \r\nL 273.690224 52.89946 \r\nL 277.270973 56.794955 \r\nL 280.851721 61.047812 \r\nL 284.43247 65.684253 \r\nL 288.013219 70.729475 \r\nL 291.593967 76.211243 \r\nL 295.174716 82.155781 \r\nL 298.755465 88.590341 \r\nL 302.336213 94.76575 \r\nL 305.916962 100.535464 \r\nL 309.497711 106.629117 \r\nL 313.078459 113.050823 \r\nL 316.659208 119.805723 \r\nL 320.239957 126.893817 \r\nL 323.820705 134.316134 \r\nL 327.401454 142.068561 \r\nL 330.982203 150.146469 \r\nL 334.562951 158.541631 \r\nL 338.1437 167.242736 \r\nL 341.724449 176.236415 \r\nL 345.305197 185.505698 \r\nL 348.885946 195.030534 \r\nL 352.466695 204.789326 \r\nL 356.047443 214.756364 \r\n\" style=\"fill:none;stroke:#0000ff;stroke-linecap:square;stroke-width:1.5;\"/>\r\n   </g>\r\n   <g id=\"line2d_16\">\r\n    <path clip-path=\"url(#p330b89edcb)\" d=\"M 51.683807 17.083636 \r\nL 55.264555 17.083642 \r\nL 58.845304 17.083651 \r\nL 62.426053 17.083666 \r\nL 66.006801 17.08369 \r\nL 69.58755 17.083728 \r\nL 73.168299 17.083786 \r\nL 76.749047 17.083875 \r\nL 80.329796 17.084005 \r\nL 83.910545 17.084195 \r\nL 87.491293 17.084466 \r\nL 91.072042 17.084849 \r\nL 94.652791 17.085381 \r\nL 98.233539 17.086112 \r\nL 101.814288 17.087105 \r\nL 105.395037 17.08844 \r\nL 108.975785 17.090216 \r\nL 112.556534 17.092556 \r\nL 116.137283 17.095614 \r\nL 119.718031 17.099576 \r\nL 123.29878 17.104671 \r\nL 126.879529 17.111175 \r\nL 130.460277 17.119421 \r\nL 134.041026 17.129807 \r\nL 137.621775 17.14281 \r\nL 141.202523 17.158993 \r\nL 144.783272 17.179023 \r\nL 148.364021 17.203683 \r\nL 151.944769 17.233892 \r\nL 155.525518 17.270721 \r\nL 159.106267 17.315417 \r\nL 162.687015 17.36942 \r\nL 166.267764 17.434397 \r\nL 169.848513 17.512263 \r\nL 173.429261 17.605212 \r\nL 177.01001 17.715754 \r\nL 180.590759 17.846748 \r\nL 184.171507 18.001438 \r\nL 187.752256 18.1835 \r\nL 191.333005 18.397078 \r\nL 194.913753 18.646839 \r\nL 198.494502 18.938013 \r\nL 202.075251 19.276449 \r\nL 205.655999 19.668662 \r\nL 209.236748 20.121887 \r\nL 212.817497 20.644129 \r\nL 216.398245 21.244212 \r\nL 219.978994 21.931823 \r\nL 223.559743 22.71755 \r\nL 227.140491 23.612918 \r\nL 230.72124 24.630402 \r\nL 234.301989 25.783436 \r\nL 237.882737 27.0864 \r\nL 241.463486 28.554579 \r\nL 245.044235 30.204099 \r\nL 248.624983 32.05183 \r\nL 252.205732 34.115242 \r\nL 255.786481 36.412224 \r\nL 259.367229 38.960847 \r\nL 262.947978 41.779074 \r\nL 266.528727 44.884408 \r\nL 270.109475 48.293487 \r\nL 273.690224 52.021611 \r\nL 277.270973 56.082222 \r\nL 280.851721 60.486334 \r\nL 284.43247 65.24194 \r\nL 288.013219 70.353397 \r\nL 291.593967 75.820833 \r\nL 295.174716 81.639599 \r\nL 298.755465 87.799786 \r\nL 302.336213 94.285871 \r\nL 305.916962 101.0765 \r\nL 309.497711 108.144455 \r\nL 313.078459 115.456832 \r\nL 316.659208 122.975431 \r\nL 320.239957 130.657374 \r\nL 323.820705 138.455933 \r\nL 327.401454 146.321531 \r\nL 330.982203 154.202893 \r\nL 334.562951 162.048269 \r\nL 338.1437 169.806682 \r\nL 341.724449 177.429132 \r\nL 345.305197 184.869701 \r\nL 348.885946 192.0865 \r\nL 352.466695 199.042424 \r\nL 356.047443 205.70569 \r\n\" style=\"fill:none;stroke:#008000;stroke-dasharray:5.55,2.4;stroke-dashoffset:0;stroke-width:1.5;\"/>\r\n   </g>\r\n   <g id=\"patch_3\">\r\n    <path d=\"M 36.465625 224.64 \r\nL 36.465625 7.2 \r\n\" style=\"fill:none;stroke:#000000;stroke-linecap:square;stroke-linejoin:miter;stroke-width:0.8;\"/>\r\n   </g>\r\n   <g id=\"patch_4\">\r\n    <path d=\"M 371.265625 224.64 \r\nL 371.265625 7.2 \r\n\" style=\"fill:none;stroke:#000000;stroke-linecap:square;stroke-linejoin:miter;stroke-width:0.8;\"/>\r\n   </g>\r\n   <g id=\"patch_5\">\r\n    <path d=\"M 36.465625 224.64 \r\nL 371.265625 224.64 \r\n\" style=\"fill:none;stroke:#000000;stroke-linecap:square;stroke-linejoin:miter;stroke-width:0.8;\"/>\r\n   </g>\r\n   <g id=\"patch_6\">\r\n    <path d=\"M 36.465625 7.2 \r\nL 371.265625 7.2 \r\n\" style=\"fill:none;stroke:#000000;stroke-linecap:square;stroke-linejoin:miter;stroke-width:0.8;\"/>\r\n   </g>\r\n  </g>\r\n </g>\r\n <defs>\r\n  <clipPath id=\"p330b89edcb\">\r\n   <rect height=\"217.44\" width=\"334.8\" x=\"36.465625\" y=\"7.2\"/>\r\n  </clipPath>\r\n </defs>\r\n</svg>\r\n",
            "image/png": "[encoded data removed]"
          },
          "metadata": {
            "tags": [],
            "needs_background": "light"
          }
        }
      ]
    },
    {
      "cell_type": "code",
      "metadata": {
        "tags": [],
        "id": "yrgCpx1s1sUq",
        "outputId": "8e45a5ed-51ef-4f24-8901-4a02bd1db3d6"
      },
      "source": [
        "results(burr_survival,popt,pcov)\n",
        "print(\"Confidence intervals: \")\n",
        "getConfidenceIntervals(burr_survival, popt, (0.1,0.1),((0,0),(float('inf'),float('inf'))))"
      ],
      "execution_count": null,
      "outputs": [
        {
          "output_type": "stream",
          "text": [
            "Probility of surviving the next three months given Surivival till Age 60 = 0.9980873726098498\n",
            "standard deviation errors on the parameters\n",
            "[0.0671687  0.04372561]\n",
            "Confidence intervals: \n",
            "[ 10.432623560283945 , 10.432623560490365 ]\n",
            "[ 8.952090086235522 , 8.95209008633137 ]\n"
          ],
          "name": "stdout"
        }
      ]
    },
    {
      "cell_type": "markdown",
      "metadata": {
        "id": "nQCIzpkY1sUt"
      },
      "source": [
        "## Exponentiated exponential\n",
        "$\\large{X \\sim Exponentiated \\ Exp(\\alpha,\\lambda);}$<br>\n",
        "$\\large{S_x(t)=\\frac{1-(1-e^{-\\lambda(x+t)})^{\\alpha}}{1-(1-e^{-\\lambda x})^{\\alpha}}}$<br>\n",
        "$\\large{\\mu_x(t)=\\frac{\\alpha (1-e^{-\\lambda(x+t)})^{\\alpha-1} \\lambda e^{-\\lambda(x+t)}}{1-(1-e^{-\\lambda(x+t)})^{\\alpha}}}$"
      ]
    },
    {
      "cell_type": "code",
      "metadata": {
        "id": "JYSO9D1P1sUt"
      },
      "source": [
        "def exp_exp_survival(x,alpha,lam,t=0.01):\n",
        "    return 1-pow(1-np.exp(-lam*(x+t)),alpha)/1-pow(1-np.exp(-lam*(x)),alpha)"
      ],
      "execution_count": null,
      "outputs": []
    },
    {
      "cell_type": "code",
      "metadata": {
        "tags": [],
        "id": "DIkbPT7_1sUv",
        "outputId": "1eda9612-7fca-475b-af6a-83183ea94ab6",
        "colab": {
          "base_uri": "https://localhost:8080/",
          "height": 265
        }
      },
      "source": [
        "popt,pcov=fit_curve(age,S,exp_exp_survival,(1,1),((0,0),(float('inf'),float('inf'))))"
      ],
      "execution_count": null,
      "outputs": [
        {
          "output_type": "display_data",
          "data": {
            "image/png": "[encoded data removed]",
            "text/plain": [
              "<Figure size 432x288 with 1 Axes>"
            ]
          },
          "metadata": {
            "tags": [],
            "needs_background": "light"
          }
        }
      ]
    },
    {
      "cell_type": "code",
      "metadata": {
        "tags": [],
        "id": "MUvi7XWJ1sUx",
        "outputId": "f8f4d79d-a9bf-45dd-a237-a11a1ee2cfa3",
        "colab": {
          "base_uri": "https://localhost:8080/",
          "height": 118
        }
      },
      "source": [
        "results(exp_exp_survival,popt,pcov)\n",
        "print(\"Confidence intervals: \")\n",
        "getConfidenceIntervals(exp_exp_survival, popt, (1,1),((0,0),(float('inf'),float('inf'))))"
      ],
      "execution_count": null,
      "outputs": [
        {
          "output_type": "stream",
          "text": [
            "Probility of surviving the next three months given Surivival till Age 60 = 0.9921487880131341\n",
            "standard deviation errors on the parameters\n",
            "[0.42521878 0.01565779]\n",
            "Confidence intervals: \n",
            "[ 28.839188168422595 , 28.839188320052646 ]\n",
            "[ 2.9009277484553135 , 2.900927753708702 ]\n"
          ],
          "name": "stdout"
        }
      ]
    },
    {
      "cell_type": "markdown",
      "metadata": {
        "id": "myvt7u5DybwX"
      },
      "source": [
        "We can see that the values of survival for 3 months after the person has survived till age 60 agree for most distributions and is around 0.99. \n",
        "\n",
        "We see poor fitting for exponential and pareto distributions and we shall not use them for any future analysis."
      ]
    },
    {
      "cell_type": "code",
      "metadata": {
        "id": "W5jJDSN71sU0"
      },
      "source": [
        ""
      ],
      "execution_count": null,
      "outputs": []
    }
  ]
}